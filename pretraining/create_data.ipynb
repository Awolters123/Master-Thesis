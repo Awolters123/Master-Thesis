{
 "cells": [
  {
   "cell_type": "code",
   "execution_count": 1,
   "id": "b6ef3ff4",
   "metadata": {},
   "outputs": [],
   "source": [
    "import os\n",
    "from tqdm import tqdm"
   ]
  },
  {
   "cell_type": "code",
   "execution_count": 13,
   "id": "426c3d02",
   "metadata": {},
   "outputs": [],
   "source": [
    "file_names = list(os.listdir('sonar'))"
   ]
  },
  {
   "cell_type": "code",
   "execution_count": 18,
   "id": "9917fa27",
   "metadata": {},
   "outputs": [
    {
     "name": "stderr",
     "output_type": "stream",
     "text": [
      "100%|███████████████████████████████████████████| 20/20 [00:06<00:00,  3.21it/s]\n"
     ]
    }
   ],
   "source": [
    "books_traindata = []\n",
    "out, i, j = '', 0, 0\n",
    "for filename in tqdm(file_names, ncols=80):\n",
    "    source_path = os.path.join('sonar', filename)\n",
    "    with open(source_path, 'r') as f:\n",
    "        data = f.readlines()\n",
    "        for d in data:\n",
    "            if len(d) > 50:\n",
    "                books_traindata.append(d)"
   ]
  },
  {
   "cell_type": "code",
   "execution_count": 19,
   "id": "4ee688b1",
   "metadata": {},
   "outputs": [
    {
     "data": {
      "text/plain": [
       "17875461"
      ]
     },
     "execution_count": 19,
     "metadata": {},
     "output_type": "execute_result"
    }
   ],
   "source": [
    "len(books_traindata)"
   ]
  },
  {
   "cell_type": "code",
   "execution_count": 20,
   "id": "4b40fd14",
   "metadata": {},
   "outputs": [],
   "source": [
    "train_data = books_traindata[:2000000]\n",
    "dev_data = books_traindata[2050000:2250000]"
   ]
  },
  {
   "cell_type": "code",
   "execution_count": 22,
   "id": "fb361abc",
   "metadata": {},
   "outputs": [
    {
     "data": {
      "text/plain": [
       "['werd benadrukt dat de grootste barrière voor het opdrijven van het aantal jongeren dat wordt\\n',\n",
       " 'vertegenwoordigd door jeugdorganisaties , vooral gevormd wordt door het gebrek aan middelen .\\n',\n",
       " 'Vooral nationale jeugdraden waren van mening dat de delen van het Witboek waarin werd\\n',\n",
       " 'gesuggereerd dat ze open moeten staan voor niet - georganiseerde jongeren , op zijn zachtst uitgedrukt\\n',\n",
       " 'onduidelijk waren en in het ergste geval konden worden geïnterpreteerd als een aanvechting\\n',\n",
       " 'van hun autonomie en van hun democratische structuren .\\n',\n",
       " 'jeugdorganisaties betreurden het gebrek aan verwijzingen naar hun werk of naar de rol die zij\\n',\n",
       " 'kunnen spelen bij een beter uitgebouwd jeugdbeleid in Europa .\\n',\n",
       " 'significant verschil bestond tussen de standpunten van georganiseerde jongeren en niet - georganiseerde\\n',\n",
       " 'jongeren , zoals gebleken is uit de consultaties voor het Witboek en dat het\\n']"
      ]
     },
     "execution_count": 22,
     "metadata": {},
     "output_type": "execute_result"
    }
   ],
   "source": [
    "train_data[:10]"
   ]
  },
  {
   "cell_type": "code",
   "execution_count": 21,
   "id": "90256925",
   "metadata": {},
   "outputs": [
    {
     "name": "stdout",
     "output_type": "stream",
     "text": [
      "train data size: 2000000\n",
      "dev data size: 200000\n"
     ]
    }
   ],
   "source": [
    "print(\"train data size: {}\".format(len(train_data)))\n",
    "print(\"dev data size: {}\".format(len(dev_data)))"
   ]
  },
  {
   "cell_type": "code",
   "execution_count": 33,
   "id": "55f76a48",
   "metadata": {},
   "outputs": [],
   "source": [
    "with open('pretraining_train.txt', 'w') as save_file1:\n",
    "    for x1 in train_data:\n",
    "        save_file1.write(x1)"
   ]
  },
  {
   "cell_type": "code",
   "execution_count": 34,
   "id": "e325dd9f",
   "metadata": {},
   "outputs": [],
   "source": [
    "with open('pretraining_dev.txt', 'w') as save_file2:\n",
    "    for x2 in dev_data:\n",
    "        save_file2.write(x2)"
   ]
  }
 ],
 "metadata": {
  "kernelspec": {
   "display_name": "Python 3 (ipykernel)",
   "language": "python",
   "name": "python3"
  },
  "language_info": {
   "codemirror_mode": {
    "name": "ipython",
    "version": 3
   },
   "file_extension": ".py",
   "mimetype": "text/x-python",
   "name": "python",
   "nbconvert_exporter": "python",
   "pygments_lexer": "ipython3",
   "version": "3.10.7"
  }
 },
 "nbformat": 4,
 "nbformat_minor": 5
}
