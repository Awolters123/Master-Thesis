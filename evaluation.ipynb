{
 "cells": [
  {
   "cell_type": "code",
   "execution_count": 11,
   "metadata": {
    "id": "lVLUqNQgfmgk"
   },
   "outputs": [],
   "source": [
    "import re\n",
    "from Levenshtein import distance\n",
    "from tqdm import tqdm\n",
    "import textwrap\n",
    "import evaluate\n",
    "import datasets\n",
    "from difflib import SequenceMatcher\n",
    "from difflib import Differ\n",
    "from sklearn.metrics import precision_recall_fscore_support\n",
    "import shutil\n",
    "from evaluate_functions import *"
   ]
  },
  {
   "cell_type": "code",
   "execution_count": 3,
   "metadata": {},
   "outputs": [
    {
     "data": {
      "text/html": [
       "<style>.container { width:75% !important; }</style>"
      ],
      "text/plain": [
       "<IPython.core.display.HTML object>"
      ]
     },
     "metadata": {},
     "output_type": "display_data"
    }
   ],
   "source": [
    "from IPython.display import display, HTML\n",
    "display(HTML(\"<style>.container { width:75% !important; }</style>\"))"
   ]
  },
  {
   "cell_type": "code",
   "execution_count": 4,
   "metadata": {},
   "outputs": [],
   "source": [
    "# Silver data from Rule-Based\n",
    "with open('silver_data/Multatuli_MaxHavelaar_silver.txt', 'r') as s1:\n",
    "    silver_data1 = s1.readlines()\n",
    "    \n",
    "with open('silver_data/ConanDoyle_SherlockHolmesDeAgraSchat_silver.txt', 'r') as s2:\n",
    "    silver_data2 = s2.readlines()\n",
    "    \n",
    "with open('silver_data/Nescio_Titaantjes_silver.txt', 'r') as s3:\n",
    "    silver_data3 = s3.readlines()"
   ]
  },
  {
   "cell_type": "code",
   "execution_count": 5,
   "metadata": {
    "id": "kP_j8onof38Q"
   },
   "outputs": [],
   "source": [
    "# Gold data (human annotated)\n",
    "with open('gold_data/Multatuli_MaxHavelaar_gold.txt', 'r') as g1:\n",
    "    gold_data1 = g1.readlines()\n",
    "    \n",
    "with open('gold_data/ConanDoyle_SherlockHolmesDeAgraSchat_gold.txt', 'r') as g2:\n",
    "    gold_data2 = g2.readlines()\n",
    "    \n",
    "with open('gold_data/Nescio_Titaantjes_gold.txt', 'r') as g3:\n",
    "    gold_data3 = g3.readlines()"
   ]
  },
  {
   "cell_type": "code",
   "execution_count": 6,
   "metadata": {},
   "outputs": [],
   "source": [
    "# Predictions from Flan-T5 not pretrained\n",
    "with open('FlanT5_pred/Multatuli_MaxHavelaar_pred.txt', 'r') as flan_p1:\n",
    "    flan_pred1 = flan_p1.readlines()\n",
    "\n",
    "with open('FlanT5_pred/ConanDoyle_SherlockHolmesDeAgraSchat_pred.txt', 'r') as flan_p2:\n",
    "    flan_pred2 = flan_p2.readlines()\n",
    "    \n",
    "with open('FlanT5_pred/Nescio_Titaantjes_pred.txt', 'r') as flan_p3:\n",
    "    flan_pred3 = flan_p3.readlines()"
   ]
  },
  {
   "cell_type": "code",
   "execution_count": 7,
   "metadata": {},
   "outputs": [],
   "source": [
    "# Predictions from ByT5 not pretrained\n",
    "with open('ByT5_orig_predV2/Multatuli_MaxHavelaar_pred.txt', 'r') as byt5_p1:\n",
    "    byt5_pred1 = byt5_p1.readlines()\n",
    "\n",
    "with open('ByT5_orig_predV2/ConanDoyle_SherlockHolmesDeAgraSchat_pred.txt', 'r') as byt5_p2:\n",
    "    byt5_pred2 = byt5_p2.readlines()\n",
    "    \n",
    "with open('ByT5_orig_predV2/Nescio_Titaantjes_pred.txt', 'r') as byt5_p3:\n",
    "    byt5_pred3 = byt5_p3.readlines()"
   ]
  },
  {
   "cell_type": "code",
   "execution_count": 8,
   "metadata": {},
   "outputs": [],
   "source": [
    "# Predictions from ByT5 pretrained with 2 million sentences from BERTje Books \n",
    "with open('ByT5_pre_books_predV4/Multatuli_MaxHavelaar_pred.txt', 'r') as books1:\n",
    "    byt5_books_pred1 = books1.readlines()\n",
    "\n",
    "with open('ByT5_pre_books_predV4/ConanDoyle_SherlockHolmesDeAgraSchat_pred.txt', 'r') as books2:\n",
    "    byt5_books_pred2 = books2.readlines()\n",
    "    \n",
    "with open('ByT5_pre_books_predV4/Nescio_Titaantjes_pred.txt', 'r') as books3:\n",
    "    byt5_books_pred3 = books3.readlines()"
   ]
  },
  {
   "cell_type": "code",
   "execution_count": 9,
   "metadata": {},
   "outputs": [],
   "source": [
    "# Predictions from ByT5 pretrained with 2 million sentences from BERTje Sonar \n",
    "with open('ByT5_pre_sonar_predV2/Multatuli_MaxHavelaar_pred.txt', 'r') as sonar1:\n",
    "    byt5_sonar_pred1 = sonar1.readlines()\n",
    "\n",
    "with open('ByT5_pre_sonar_predV2/ConanDoyle_SherlockHolmesDeAgraSchat_pred.txt', 'r') as sonar2:\n",
    "    byt5_sonar_pred2 = sonar2.readlines()\n",
    "    \n",
    "with open('ByT5_pre_sonar_predV2/Nescio_Titaantjes_pred.txt', 'r') as sonar3:\n",
    "    byt5_sonar_pred3 = sonar3.readlines()"
   ]
  },
  {
   "cell_type": "code",
   "execution_count": null,
   "metadata": {},
   "outputs": [],
   "source": [
    "'''\n",
    "Accuracy ERR scores:\n",
    "1. FlanT5 \n",
    "2. ByT5 original\n",
    "3. ByT5 pretrained Sonar \n",
    "4. ByT5 pretrained Books \n",
    "5. Rule-based\n",
    "\n",
    "Best results for each novel:\n",
    "\n",
    "1. Max Havelaar Multatuli: 1. Rule-Based (Acc ERR: 68.35%)\n",
    "2. Conan Doyle Sherlock Holmes De Agra Schat: 4. ByT5 pretrained sonar (Acc ERR: 71.71%)\n",
    "3. Nescio Titaantjes: 3. ByT5 pretrained books (Acc ERR: 83.79%%)\n",
    "'''"
   ]
  },
  {
   "cell_type": "markdown",
   "metadata": {},
   "source": [
    "## 1. Flan T5 (not pretrained)"
   ]
  },
  {
   "cell_type": "code",
   "execution_count": 12,
   "metadata": {},
   "outputs": [
    {
     "name": "stdout",
     "output_type": "stream",
     "text": [
      "Max Havelaar Multatuli (FlanT5):\n",
      "Baseline Accuracy: 96.04%\n",
      "Accuracy: 98.24%\n",
      "Error Reduction Rate: 55.44%\n",
      "Avg Precision: 98.45%\n",
      "Avg Recall: 98.46%\n"
     ]
    }
   ],
   "source": [
    "print('Max Havelaar Multatuli (FlanT5):')\n",
    "evaluate_err(gold_data1, flan_pred1)"
   ]
  },
  {
   "cell_type": "code",
   "execution_count": 13,
   "metadata": {},
   "outputs": [
    {
     "name": "stdout",
     "output_type": "stream",
     "text": [
      "Conan Doyle Sherlock Holmes De Agra Schat (FlanT5):\n",
      "Baseline Accuracy: 94.83%\n",
      "Accuracy: 97.87%\n",
      "Error Reduction Rate: 58.72%\n",
      "Avg Precision: 97.95%\n",
      "Avg Recall: 97.99%\n"
     ]
    }
   ],
   "source": [
    "print('Conan Doyle Sherlock Holmes De Agra Schat (FlanT5):')\n",
    "evaluate_err(gold_data2, flan_pred2)"
   ]
  },
  {
   "cell_type": "code",
   "execution_count": 14,
   "metadata": {},
   "outputs": [
    {
     "name": "stdout",
     "output_type": "stream",
     "text": [
      "Nescio Titaantjes (FlanT5):\n",
      "Baseline Accuracy: 96.28%\n",
      "Accuracy: 98.95%\n",
      "Error Reduction Rate: 71.69%\n",
      "Avg Precision: 99.23%\n",
      "Avg Recall: 99.28%\n"
     ]
    }
   ],
   "source": [
    "print('Nescio Titaantjes (FlanT5):') \n",
    "evaluate_err(gold_data3, flan_pred3)"
   ]
  },
  {
   "cell_type": "markdown",
   "metadata": {},
   "source": [
    "## 2. ByT5 original (not pretrained)"
   ]
  },
  {
   "cell_type": "code",
   "execution_count": 15,
   "metadata": {},
   "outputs": [
    {
     "name": "stdout",
     "output_type": "stream",
     "text": [
      "Max Havelaar Multatuli (ByT5 orig):\n",
      "Baseline Accuracy: 96.04%\n",
      "Accuracy: 98.72%\n",
      "Error Reduction Rate: 67.59%\n",
      "Avg Precision: 98.73%\n",
      "Avg Recall: 98.73%\n"
     ]
    }
   ],
   "source": [
    "print('Max Havelaar Multatuli (ByT5 orig):')\n",
    "evaluate_err(gold_data1, byt5_pred1)"
   ]
  },
  {
   "cell_type": "code",
   "execution_count": 16,
   "metadata": {},
   "outputs": [
    {
     "name": "stdout",
     "output_type": "stream",
     "text": [
      "Conan Doyle Sherlock Holmes De Agra Schat (ByT5 orig):\n",
      "Baseline Accuracy: 94.83%\n",
      "Accuracy: 98.53%\n",
      "Error Reduction Rate: 71.51%\n",
      "Avg Precision: 98.51%\n",
      "Avg Recall: 98.54%\n"
     ]
    }
   ],
   "source": [
    "print('Conan Doyle Sherlock Holmes De Agra Schat (ByT5 orig):')\n",
    "evaluate_err(gold_data2, byt5_pred2)"
   ]
  },
  {
   "cell_type": "code",
   "execution_count": 261,
   "metadata": {},
   "outputs": [
    {
     "name": "stdout",
     "output_type": "stream",
     "text": [
      "Nescio Titaantjes (ByT5 orig):\n",
      "Baseline Accuracy: 96.28%\n",
      "Accuracy: 99.32%\n",
      "Error Reduction Rate: 81.74%\n",
      "Avg Precision: 99.48%\n",
      "Avg Recall: 99.51%\n"
     ]
    }
   ],
   "source": [
    "print('Nescio Titaantjes (ByT5 orig):') \n",
    "evaluate_err(gold_data3, byt5_pred3)"
   ]
  },
  {
   "cell_type": "markdown",
   "metadata": {},
   "source": [
    "## 3. ByT5 pretrained with 2 million sentences from BERTje Books"
   ]
  },
  {
   "cell_type": "code",
   "execution_count": 17,
   "metadata": {},
   "outputs": [
    {
     "name": "stdout",
     "output_type": "stream",
     "text": [
      "Max Havelaar Multatuli (ByT5 pretrained books):\n",
      "Baseline Accuracy: 96.04%\n",
      "Accuracy: 98.70%\n",
      "Error Reduction Rate: 67.09%\n",
      "Avg Precision: 98.76%\n",
      "Avg Recall: 98.76%\n"
     ]
    }
   ],
   "source": [
    "print('Max Havelaar Multatuli (ByT5 pretrained books):')\n",
    "evaluate_err(gold_data1, byt5_books_pred1)"
   ]
  },
  {
   "cell_type": "code",
   "execution_count": 18,
   "metadata": {},
   "outputs": [
    {
     "name": "stdout",
     "output_type": "stream",
     "text": [
      "Conan Doyle Sherlock Holmes De Agra Schat (ByT5 pretrained books):\n",
      "Baseline Accuracy: 94.83%\n",
      "Accuracy: 98.49%\n",
      "Error Reduction Rate: 70.74%\n",
      "Avg Precision: 98.46%\n",
      "Avg Recall: 98.50%\n"
     ]
    }
   ],
   "source": [
    "print('Conan Doyle Sherlock Holmes De Agra Schat (ByT5 pretrained books):')\n",
    "evaluate_err(gold_data2, byt5_books_pred2)"
   ]
  },
  {
   "cell_type": "code",
   "execution_count": 19,
   "metadata": {},
   "outputs": [
    {
     "name": "stdout",
     "output_type": "stream",
     "text": [
      "Nescio Titaantjes (ByT5 pretrained books):\n",
      "Baseline Accuracy: 96.28%\n",
      "Accuracy: 99.40%\n",
      "Error Reduction Rate: 83.79%\n",
      "Avg Precision: 99.47%\n",
      "Avg Recall: 99.51%\n"
     ]
    }
   ],
   "source": [
    "print('Nescio Titaantjes (ByT5 pretrained books):') \n",
    "evaluate_err(gold_data3, byt5_books_pred3)"
   ]
  },
  {
   "cell_type": "markdown",
   "metadata": {},
   "source": [
    "## 4. ByT5 pretrained with 2 million sentences from BERTje Sonar"
   ]
  },
  {
   "cell_type": "code",
   "execution_count": 20,
   "metadata": {},
   "outputs": [
    {
     "name": "stdout",
     "output_type": "stream",
     "text": [
      "Max Havelaar Multatuli (ByT5 pretrained sonar):\n",
      "Baseline Accuracy: 96.04%\n",
      "Accuracy: 98.70%\n",
      "Error Reduction Rate: 67.09%\n",
      "Avg Precision: 98.80%\n",
      "Avg Recall: 98.80%\n"
     ]
    }
   ],
   "source": [
    "print('Max Havelaar Multatuli (ByT5 pretrained sonar):')\n",
    "evaluate_err(gold_data1, byt5_sonar_pred1)"
   ]
  },
  {
   "cell_type": "code",
   "execution_count": 21,
   "metadata": {},
   "outputs": [
    {
     "name": "stdout",
     "output_type": "stream",
     "text": [
      "Conan Doyle Sherlock Holmes De Agra Schat (ByT5 pretrained sonar):\n",
      "Baseline Accuracy: 94.83%\n",
      "Accuracy: 98.54%\n",
      "Error Reduction Rate: 71.71%\n",
      "Avg Precision: 98.46%\n",
      "Avg Recall: 98.50%\n"
     ]
    }
   ],
   "source": [
    "print('Conan Doyle Sherlock Holmes De Agra Schat (ByT5 pretrained sonar):')\n",
    "evaluate_err(gold_data2, byt5_sonar_pred2)"
   ]
  },
  {
   "cell_type": "code",
   "execution_count": 22,
   "metadata": {},
   "outputs": [
    {
     "name": "stdout",
     "output_type": "stream",
     "text": [
      "Nescio Titaantjes (ByT5 pretrained sonar):\n",
      "Baseline Accuracy: 96.28%\n",
      "Accuracy: 99.39%\n",
      "Error Reduction Rate: 83.56%\n",
      "Avg Precision: 99.19%\n",
      "Avg Recall: 99.23%\n"
     ]
    }
   ],
   "source": [
    "print('Nescio Titaantjes (ByT5 pretrained sonar):') \n",
    "evaluate_err(gold_data3, byt5_sonar_pred3)"
   ]
  },
  {
   "cell_type": "markdown",
   "metadata": {},
   "source": [
    "## 5. Rule-based "
   ]
  },
  {
   "cell_type": "code",
   "execution_count": 23,
   "metadata": {},
   "outputs": [
    {
     "name": "stdout",
     "output_type": "stream",
     "text": [
      "Max Havelaar Multatuli (rule-based):\n",
      "Baseline Accuracy: 96.04%\n",
      "Accuracy: 98.75%\n",
      "Error Reduction Rate: 68.35%\n",
      "Avg Precision: 98.90%\n",
      "Avg Recall: 98.90%\n"
     ]
    }
   ],
   "source": [
    "print('Max Havelaar Multatuli (rule-based):')\n",
    "_, silver_target1 = create_data(silver_data1)\n",
    "evaluate_err(gold_data1, silver_target1)"
   ]
  },
  {
   "cell_type": "code",
   "execution_count": 24,
   "metadata": {},
   "outputs": [
    {
     "name": "stdout",
     "output_type": "stream",
     "text": [
      "Conan Doyle Sherlock Holmes De Agra Schat (rule-based):\n",
      "Baseline Accuracy: 94.83%\n",
      "Accuracy: 98.35%\n",
      "Error Reduction Rate: 68.02%\n",
      "Avg Precision: 98.34%\n",
      "Avg Recall: 98.38%\n"
     ]
    }
   ],
   "source": [
    "print('Conan Doyle Sherlock Holmes De Agra Schat (rule-based):')\n",
    "_, silver_target2 = create_data(silver_data2)\n",
    "evaluate_err(gold_data2, silver_target2)"
   ]
  },
  {
   "cell_type": "code",
   "execution_count": 43,
   "metadata": {},
   "outputs": [
    {
     "name": "stdout",
     "output_type": "stream",
     "text": [
      "Nescio Titaantjes (rule-based):\n",
      "Baseline Accuracy: 96.28%\n",
      "Accuracy: 98.52%\n",
      "Error Reduction Rate: 60.27%\n",
      "Avg Precision: 98.80%\n",
      "Avg Recall: 98.82%\n"
     ]
    }
   ],
   "source": [
    "print('Nescio Titaantjes (rule-based):') \n",
    "_, silver_target3 = create_data(silver_data3)\n",
    "evaluate_err(gold_data3, silver_target3)"
   ]
  },
  {
   "cell_type": "code",
   "execution_count": null,
   "metadata": {},
   "outputs": [],
   "source": [
    "'''\n",
    "Chrf++ (ERR) scores:\n",
    "1. FlanT5 \n",
    "2. ByT5 original\n",
    "3. ByT5 pretrained Sonar \n",
    "4. ByT5 pretrained Books \n",
    "5. Rule-based\n",
    "\n",
    "Best results for each novel:\n",
    "\n",
    "1. Max Havelaar Multatuli: 5. Rule-Based (chrf++: 98.68%) \n",
    "2. Conan Doyle Sherlock Holmes De Agra Schat: 2. ByT5 original (chrf++: 98.54%)\n",
    "3. Nescio Titaantjes: 3. ByT5 pretrained books (chrf++: 99.15%)\n",
    "'''"
   ]
  },
  {
   "cell_type": "markdown",
   "metadata": {},
   "source": [
    "## 1. Flan T5 (not pretrained)"
   ]
  },
  {
   "cell_type": "code",
   "execution_count": 28,
   "metadata": {},
   "outputs": [
    {
     "name": "stdout",
     "output_type": "stream",
     "text": [
      "Max Havelaar Multatuli (FlanT5):\n",
      "Chrf++: Baseline\n",
      "   score: 96.34\n",
      "   char_order: 6\n",
      "   word_order: 2\n",
      "   beta: 2\n",
      "Chrf++: FlanT5\n",
      "   score: 97.16\n",
      "   char_order: 6\n",
      "   word_order: 2\n",
      "   beta: 2\n",
      "Chrf++ ERR: 22.37\n"
     ]
    }
   ],
   "source": [
    "print('Max Havelaar Multatuli (FlanT5):')\n",
    "original1, gold1 = create_data(gold_data1)\n",
    "baseline_chrf = cal_chrf(gold1, original1, 2, 'Baseline')\n",
    "chrf = cal_chrf(gold1, flan_pred1, 2, 'FlanT5')\n",
    "err = round((chrf - baseline_chrf) / (100 - baseline_chrf) * 100, 2)\n",
    "print('Chrf++ ERR: {}'.format(err))"
   ]
  },
  {
   "cell_type": "code",
   "execution_count": 29,
   "metadata": {},
   "outputs": [
    {
     "name": "stdout",
     "output_type": "stream",
     "text": [
      "Conan Doyle Sherlock Holmes De Agra Schat (FlanT5):\n",
      "Chrf++: Baseline\n",
      "   score: 95.64\n",
      "   char_order: 6\n",
      "   word_order: 2\n",
      "   beta: 2\n",
      "Chrf++: FlanT5\n",
      "   score: 97.86\n",
      "   char_order: 6\n",
      "   word_order: 2\n",
      "   beta: 2\n",
      "Chrf++ ERR: 50.86\n"
     ]
    }
   ],
   "source": [
    "print('Conan Doyle Sherlock Holmes De Agra Schat (FlanT5):')\n",
    "original2, gold2 = create_data(gold_data2)\n",
    "baseline_chrf = cal_chrf(gold2, original2, 2, 'Baseline')\n",
    "chrf = cal_chrf(gold2, flan_pred2, 2, 'FlanT5')\n",
    "err = round((chrf - baseline_chrf) / (100 - baseline_chrf) * 100, 2)\n",
    "print('Chrf++ ERR: {}'.format(err))"
   ]
  },
  {
   "cell_type": "code",
   "execution_count": 30,
   "metadata": {},
   "outputs": [
    {
     "name": "stdout",
     "output_type": "stream",
     "text": [
      "Nescio Titaantjes (FlanT5):\n",
      "Chrf++: Baseline\n",
      "   score: 96.83\n",
      "   char_order: 6\n",
      "   word_order: 2\n",
      "   beta: 2\n",
      "Chrf++: FlanT5\n",
      "   score: 98.64\n",
      "   char_order: 6\n",
      "   word_order: 2\n",
      "   beta: 2\n",
      "Chrf++ ERR: 57.06\n"
     ]
    }
   ],
   "source": [
    "print('Nescio Titaantjes (FlanT5):') \n",
    "original3, gold3 = create_data(gold_data3)\n",
    "baseline_chrf = cal_chrf(gold3, original3, 2, 'Baseline')\n",
    "chrf = cal_chrf(gold3, flan_pred3, 2, 'FlanT5')\n",
    "err = round((chrf - baseline_chrf) / (100 - baseline_chrf) * 100, 2)\n",
    "print('Chrf++ ERR: {}'.format(err))"
   ]
  },
  {
   "cell_type": "markdown",
   "metadata": {},
   "source": [
    "## 2. ByT5 original (not pretrained)"
   ]
  },
  {
   "cell_type": "code",
   "execution_count": 31,
   "metadata": {
    "colab": {
     "base_uri": "https://localhost:8080/"
    },
    "id": "ZQZI6w56tBmF",
    "outputId": "3abca9b2-d804-4aaf-9245-8d95dc040f6c"
   },
   "outputs": [
    {
     "name": "stdout",
     "output_type": "stream",
     "text": [
      "Max Havelaar Multatuli (ByT5 orig):\n",
      "Chrf++: Baseline\n",
      "   score: 96.34\n",
      "   char_order: 6\n",
      "   word_order: 2\n",
      "   beta: 2\n",
      "Chrf++: ByT5\n",
      "   score: 98.16\n",
      "   char_order: 6\n",
      "   word_order: 2\n",
      "   beta: 2\n",
      "Chrf++ ERR: 49.76\n"
     ]
    }
   ],
   "source": [
    "print('Max Havelaar Multatuli (ByT5 orig):')\n",
    "original1, gold1 = create_data(gold_data1)\n",
    "baseline_chrf = cal_chrf(gold1, original1, 2, 'Baseline')\n",
    "chrf = cal_chrf(gold1, byt5_pred1, 2, 'ByT5')\n",
    "err = round((chrf - baseline_chrf) / (100 - baseline_chrf) * 100, 2)\n",
    "print('Chrf++ ERR: {}'.format(err))"
   ]
  },
  {
   "cell_type": "code",
   "execution_count": 32,
   "metadata": {},
   "outputs": [
    {
     "name": "stdout",
     "output_type": "stream",
     "text": [
      "Conan Doyle Sherlock Holmes De Agra Schat (ByT5 orig):\n",
      "Chrf++: Baseline\n",
      "   score: 95.64\n",
      "   char_order: 6\n",
      "   word_order: 2\n",
      "   beta: 2\n",
      "Chrf++: ByT5\n",
      "   score: 98.54\n",
      "   char_order: 6\n",
      "   word_order: 2\n",
      "   beta: 2\n",
      "Chrf++ ERR: 66.59\n"
     ]
    }
   ],
   "source": [
    "print('Conan Doyle Sherlock Holmes De Agra Schat (ByT5 orig):')\n",
    "original2, gold2 = create_data(gold_data2)\n",
    "baseline_chrf = cal_chrf(gold2, original2, 2, 'Baseline')\n",
    "chrf = cal_chrf(gold2, byt5_pred2, 2, 'ByT5')\n",
    "err = round((chrf - baseline_chrf) / (100 - baseline_chrf) * 100, 2)\n",
    "print('Chrf++ ERR: {}'.format(err))"
   ]
  },
  {
   "cell_type": "code",
   "execution_count": 33,
   "metadata": {
    "colab": {
     "base_uri": "https://localhost:8080/"
    },
    "id": "LR5wgl1mtCC5",
    "outputId": "f3fb302a-d153-4751-bb08-464afcf2f5ab"
   },
   "outputs": [
    {
     "name": "stdout",
     "output_type": "stream",
     "text": [
      "Nescio Titaantjes (ByT5 orig):\n",
      "Chrf++: Baseline\n",
      "   score: 96.83\n",
      "   char_order: 6\n",
      "   word_order: 2\n",
      "   beta: 2\n",
      "Chrf++: ByT5\n",
      "   score: 99.07\n",
      "   char_order: 6\n",
      "   word_order: 2\n",
      "   beta: 2\n",
      "Chrf++ ERR: 70.79\n"
     ]
    }
   ],
   "source": [
    "print('Nescio Titaantjes (ByT5 orig):') \n",
    "original3, gold3 = create_data(gold_data3)\n",
    "baseline_chrf = cal_chrf(gold3, original3, 2, 'Baseline')\n",
    "chrf = cal_chrf(gold3, byt5_pred3, 2, 'ByT5')\n",
    "err = round((chrf - baseline_chrf) / (100 - baseline_chrf) * 100, 2)\n",
    "print('Chrf++ ERR: {}'.format(err))"
   ]
  },
  {
   "cell_type": "markdown",
   "metadata": {},
   "source": [
    "## 3. ByT5 pretrained with 2 million sentences from BERTje Books"
   ]
  },
  {
   "cell_type": "code",
   "execution_count": 34,
   "metadata": {},
   "outputs": [
    {
     "name": "stdout",
     "output_type": "stream",
     "text": [
      "Max Havelaar Multatuli (ByT5 pretrained books):\n",
      "Chrf++: Baseline\n",
      "   score: 96.34\n",
      "   char_order: 6\n",
      "   word_order: 2\n",
      "   beta: 2\n",
      "Chrf++: ByT5\n",
      "   score: 98.22\n",
      "   char_order: 6\n",
      "   word_order: 2\n",
      "   beta: 2\n",
      "Chrf++ ERR: 51.46\n"
     ]
    }
   ],
   "source": [
    "print('Max Havelaar Multatuli (ByT5 pretrained books):')\n",
    "original1, gold1 = create_data(gold_data1)\n",
    "baseline_chrf = cal_chrf(gold1, original1, 2, 'Baseline')\n",
    "chrf = cal_chrf(gold1, byt5_books_pred1, 2, 'ByT5')\n",
    "err = round((chrf - baseline_chrf) / (100 - baseline_chrf) * 100, 2)\n",
    "print('Chrf++ ERR: {}'.format(err))"
   ]
  },
  {
   "cell_type": "code",
   "execution_count": 35,
   "metadata": {},
   "outputs": [
    {
     "name": "stdout",
     "output_type": "stream",
     "text": [
      "Conan Doyle Sherlock Holmes De Agra Schat (ByT5 pretrained books):\n",
      "Chrf++: Baseline\n",
      "   score: 95.64\n",
      "   char_order: 6\n",
      "   word_order: 2\n",
      "   beta: 2\n",
      "Chrf++: ByT5\n",
      "   score: 98.5\n",
      "   char_order: 6\n",
      "   word_order: 2\n",
      "   beta: 2\n",
      "Chrf++ ERR: 65.55\n"
     ]
    }
   ],
   "source": [
    "print('Conan Doyle Sherlock Holmes De Agra Schat (ByT5 pretrained books):')\n",
    "original2, gold2 = create_data(gold_data2)\n",
    "baseline_chrf = cal_chrf(gold2, original2, 2, 'Baseline')\n",
    "chrf = cal_chrf(gold2, byt5_books_pred2, 2, 'ByT5')\n",
    "err = round((chrf - baseline_chrf) / (100 - baseline_chrf) * 100, 2)\n",
    "print('Chrf++ ERR: {}'.format(err))"
   ]
  },
  {
   "cell_type": "code",
   "execution_count": 36,
   "metadata": {},
   "outputs": [
    {
     "name": "stdout",
     "output_type": "stream",
     "text": [
      "Nescio Titaantjes (ByT5 pretrained books):\n",
      "Chrf++: Baseline\n",
      "   score: 96.83\n",
      "   char_order: 6\n",
      "   word_order: 2\n",
      "   beta: 2\n",
      "Chrf++: ByT5\n",
      "   score: 99.15\n",
      "   char_order: 6\n",
      "   word_order: 2\n",
      "   beta: 2\n",
      "Chrf++ ERR: 73.04\n"
     ]
    }
   ],
   "source": [
    "print('Nescio Titaantjes (ByT5 pretrained books):') \n",
    "original3, gold3 = create_data(gold_data3)\n",
    "baseline_chrf = cal_chrf(gold3, original3, 2, 'Baseline')\n",
    "chrf = cal_chrf(gold3, byt5_books_pred3, 2, 'ByT5')\n",
    "err = round((chrf - baseline_chrf) / (100 - baseline_chrf) * 100, 2)\n",
    "print('Chrf++ ERR: {}'.format(err))"
   ]
  },
  {
   "cell_type": "markdown",
   "metadata": {},
   "source": [
    "## 4. ByT5 pretrained with 2 million sentences from BERTje Sonar"
   ]
  },
  {
   "cell_type": "code",
   "execution_count": 37,
   "metadata": {},
   "outputs": [
    {
     "name": "stdout",
     "output_type": "stream",
     "text": [
      "Max Havelaar Multatuli (ByT5 pretrained sonar):\n",
      "Chrf++: Baseline\n",
      "   score: 96.34\n",
      "   char_order: 6\n",
      "   word_order: 2\n",
      "   beta: 2\n",
      "Chrf++: ByT5\n",
      "   score: 98.19\n",
      "   char_order: 6\n",
      "   word_order: 2\n",
      "   beta: 2\n",
      "Chrf++ ERR: 50.56\n"
     ]
    }
   ],
   "source": [
    "print('Max Havelaar Multatuli (ByT5 pretrained sonar):')\n",
    "original1, gold1 = create_data(gold_data1)\n",
    "baseline_chrf = cal_chrf(gold1, original1, 2, 'Baseline')\n",
    "chrf = cal_chrf(gold1, byt5_sonar_pred1, 2, 'ByT5')\n",
    "err = round((chrf - baseline_chrf) / (100 - baseline_chrf) * 100, 2)\n",
    "print('Chrf++ ERR: {}'.format(err))"
   ]
  },
  {
   "cell_type": "code",
   "execution_count": 38,
   "metadata": {},
   "outputs": [
    {
     "name": "stdout",
     "output_type": "stream",
     "text": [
      "Conan Doyle Sherlock Holmes De Agra Schat (ByT5 pretrained sonar):\n",
      "Chrf++: Baseline\n",
      "   score: 95.64\n",
      "   char_order: 6\n",
      "   word_order: 2\n",
      "   beta: 2\n",
      "Chrf++: ByT5\n",
      "   score: 98.53\n",
      "   char_order: 6\n",
      "   word_order: 2\n",
      "   beta: 2\n",
      "Chrf++ ERR: 66.37\n"
     ]
    }
   ],
   "source": [
    "print('Conan Doyle Sherlock Holmes De Agra Schat (ByT5 pretrained sonar):')\n",
    "original2, gold2 = create_data(gold_data2)\n",
    "baseline_chrf = cal_chrf(gold2, original2, 2, 'Baseline')\n",
    "chrf = cal_chrf(gold2, byt5_sonar_pred2, 2, 'ByT5')\n",
    "err = round((chrf - baseline_chrf) / (100 - baseline_chrf) * 100, 2)\n",
    "print('Chrf++ ERR: {}'.format(err))"
   ]
  },
  {
   "cell_type": "code",
   "execution_count": 39,
   "metadata": {},
   "outputs": [
    {
     "name": "stdout",
     "output_type": "stream",
     "text": [
      "Nescio Titaantjes (ByT5 pretrained sonar):\n",
      "Chrf++: Baseline\n",
      "   score: 96.83\n",
      "   char_order: 6\n",
      "   word_order: 2\n",
      "   beta: 2\n",
      "Chrf++: ByT5\n",
      "   score: 98.97\n",
      "   char_order: 6\n",
      "   word_order: 2\n",
      "   beta: 2\n",
      "Chrf++ ERR: 67.42\n"
     ]
    }
   ],
   "source": [
    "print('Nescio Titaantjes (ByT5 pretrained sonar):') \n",
    "original3, gold3 = create_data(gold_data3)\n",
    "baseline_chrf = cal_chrf(gold3, original3, 2, 'Baseline')\n",
    "chrf = cal_chrf(gold3, byt5_sonar_pred3, 2, 'ByT5')\n",
    "err = round((chrf - baseline_chrf) / (100 - baseline_chrf) * 100, 2)\n",
    "print('Chrf++ ERR: {}'.format(err))"
   ]
  },
  {
   "cell_type": "markdown",
   "metadata": {
    "id": "8aPNCtB_uwnj"
   },
   "source": [
    "## 5. Rule-based "
   ]
  },
  {
   "cell_type": "code",
   "execution_count": 40,
   "metadata": {},
   "outputs": [
    {
     "name": "stdout",
     "output_type": "stream",
     "text": [
      "Max Havelaar Multatuli (rule-based):\n",
      "Chrf++: Baseline\n",
      "   score: 96.34\n",
      "   char_order: 6\n",
      "   word_order: 2\n",
      "   beta: 2\n",
      "Chrf++: Rule-Based\n",
      "   score: 98.68\n",
      "   char_order: 6\n",
      "   word_order: 2\n",
      "   beta: 2\n",
      "Chrf++ ERR: 63.97\n"
     ]
    }
   ],
   "source": [
    "print('Max Havelaar Multatuli (rule-based):')\n",
    "silver_source1, silver_target1 = create_data(silver_data1)\n",
    "gold_source1, gold_target1 = create_data(gold_data1)\n",
    "baseline_chrf = cal_chrf(gold_target1, gold_source1, 2, 'Baseline')\n",
    "chrf = cal_chrf(gold_target1, silver_target1, 2, 'Rule-Based')\n",
    "err = round((chrf - baseline_chrf) / (100 - baseline_chrf) * 100, 2)\n",
    "print('Chrf++ ERR: {}'.format(err))"
   ]
  },
  {
   "cell_type": "code",
   "execution_count": 41,
   "metadata": {
    "colab": {
     "base_uri": "https://localhost:8080/"
    },
    "id": "3QIYYbUevGZI",
    "outputId": "11f6a475-6ea4-4f57-f17f-67af0e341949"
   },
   "outputs": [
    {
     "name": "stdout",
     "output_type": "stream",
     "text": [
      "Conan Doyle Sherlock Holmes De Agra Schat (rule-based):\n",
      "Chrf++: Baseline\n",
      "   score: 95.64\n",
      "   char_order: 6\n",
      "   word_order: 2\n",
      "   beta: 2\n",
      "Chrf++: Rule-Based\n",
      "   score: 98.5\n",
      "   char_order: 6\n",
      "   word_order: 2\n",
      "   beta: 2\n",
      "Chrf++ ERR: 65.59\n"
     ]
    }
   ],
   "source": [
    "print('Conan Doyle Sherlock Holmes De Agra Schat (rule-based):')\n",
    "silver_source2, silver_target2 = create_data(silver_data2)\n",
    "gold_source2, gold_target2 = create_data(gold_data2)\n",
    "baseline_chrf = cal_chrf(gold_target2, gold_source2, 2, 'Baseline')\n",
    "chrf = cal_chrf(gold_target2, silver_target2, 2, 'Rule-Based')\n",
    "err = round((chrf - baseline_chrf) / (100 - baseline_chrf) * 100, 2)\n",
    "print('Chrf++ ERR: {}'.format(err))"
   ]
  },
  {
   "cell_type": "code",
   "execution_count": 42,
   "metadata": {
    "colab": {
     "base_uri": "https://localhost:8080/"
    },
    "id": "E9BiRYF1vG6L",
    "outputId": "cc5d539f-73f5-4c1f-d942-f30aaff75d51"
   },
   "outputs": [
    {
     "name": "stdout",
     "output_type": "stream",
     "text": [
      "Nescio Titaantjes (rule-based):\n",
      "Chrf++: Baseline\n",
      "   score: 96.83\n",
      "   char_order: 6\n",
      "   word_order: 2\n",
      "   beta: 2\n",
      "Chrf++: Rule-Based\n",
      "   score: 98.11\n",
      "   char_order: 6\n",
      "   word_order: 2\n",
      "   beta: 2\n",
      "Chrf++ ERR: 40.23\n"
     ]
    }
   ],
   "source": [
    "print('Nescio Titaantjes (rule-based):') \n",
    "silver_source3, silver_target3 = create_data(silver_data3)\n",
    "gold_source3, gold_target3 = create_data(gold_data3)\n",
    "baseline_chrf = cal_chrf(gold_target3, gold_source3, 2, 'Baseline')\n",
    "chrf = cal_chrf(gold_target3, silver_target3, 2, 'Rule-Based')\n",
    "err = round((chrf - baseline_chrf) / (100 - baseline_chrf) * 100, 2)\n",
    "print('Chrf++ ERR: {}'.format(err))"
   ]
  }
 ],
 "metadata": {
  "accelerator": "GPU",
  "colab": {
   "collapsed_sections": [
    "O1C_g3hW7hxI"
   ],
   "gpuType": "T4",
   "provenance": []
  },
  "gpuClass": "standard",
  "kernelspec": {
   "display_name": "Python 3 (ipykernel)",
   "language": "python",
   "name": "python3"
  },
  "language_info": {
   "codemirror_mode": {
    "name": "ipython",
    "version": 3
   },
   "file_extension": ".py",
   "mimetype": "text/x-python",
   "name": "python",
   "nbconvert_exporter": "python",
   "pygments_lexer": "ipython3",
   "version": "3.10.7"
  }
 },
 "nbformat": 4,
 "nbformat_minor": 1
}
