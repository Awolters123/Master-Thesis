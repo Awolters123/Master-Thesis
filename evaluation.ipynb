{
 "cells": [
  {
   "cell_type": "code",
   "execution_count": 19,
   "metadata": {
    "id": "lVLUqNQgfmgk"
   },
   "outputs": [],
   "source": [
    "import re\n",
    "from Levenshtein import distance\n",
    "from tqdm import tqdm\n",
    "import textwrap\n",
    "import evaluate\n",
    "import datasets\n",
    "from difflib import SequenceMatcher\n",
    "from difflib import Differ\n",
    "from sklearn.metrics import precision_recall_fscore_support\n",
    "import shutil\n",
    "from evaluate_functions import *"
   ]
  },
  {
   "cell_type": "code",
   "execution_count": 20,
   "metadata": {},
   "outputs": [
    {
     "data": {
      "text/html": [
       "<style>.container { width:75% !important; }</style>"
      ],
      "text/plain": [
       "<IPython.core.display.HTML object>"
      ]
     },
     "metadata": {},
     "output_type": "display_data"
    }
   ],
   "source": [
    "from IPython.display import display, HTML\n",
    "display(HTML(\"<style>.container { width:75% !important; }</style>\"))"
   ]
  },
  {
   "cell_type": "markdown",
   "metadata": {},
   "source": [
    "## Gold data"
   ]
  },
  {
   "cell_type": "code",
   "execution_count": 21,
   "metadata": {
    "id": "kP_j8onof38Q"
   },
   "outputs": [],
   "source": [
    "# Gold data (human annotated)\n",
    "with open('gold_data/Multatuli_MaxHavelaar_gold.txt', 'r') as g1:\n",
    "    gold_data1 = g1.readlines()\n",
    "    \n",
    "with open('gold_data/ConanDoyle_SherlockHolmesDeAgraSchat_gold.txt', 'r') as g2:\n",
    "    gold_data2 = g2.readlines()\n",
    "    \n",
    "with open('gold_data/Nescio_Titaantjes_gold.txt', 'r') as g3:\n",
    "    gold_data3 = g3.readlines()"
   ]
  },
  {
   "cell_type": "markdown",
   "metadata": {},
   "source": [
    "## Rule-based predictions"
   ]
  },
  {
   "cell_type": "code",
   "execution_count": 22,
   "metadata": {},
   "outputs": [],
   "source": [
    "# Silver data from Rule-Based\n",
    "with open('silver_data/Multatuli_MaxHavelaar_silver.txt', 'r') as s1:\n",
    "    silver_data1 = s1.readlines()\n",
    "    \n",
    "with open('silver_data/ConanDoyle_SherlockHolmesDeAgraSchat_silver.txt', 'r') as s2:\n",
    "    silver_data2 = s2.readlines()\n",
    "    \n",
    "with open('silver_data/Nescio_Titaantjes_silver.txt', 'r') as s3:\n",
    "    silver_data3 = s3.readlines()"
   ]
  },
  {
   "cell_type": "markdown",
   "metadata": {},
   "source": [
    "## Predictions Flan-T5 for 5k and 10k train data"
   ]
  },
  {
   "cell_type": "code",
   "execution_count": 23,
   "metadata": {},
   "outputs": [],
   "source": [
    "# Predictions from Flan-T5 not pretrained 5K\n",
    "with open('FlanT5_pred5k/Multatuli_MaxHavelaar_pred.txt', 'r') as flan_p1_5k:\n",
    "    flan_pred1_5k = flan_p1_5k.readlines()\n",
    "\n",
    "with open('FlanT5_pred5k/ConanDoyle_SherlockHolmesDeAgraSchat_pred.txt', 'r') as flan_p2_5k:\n",
    "    flan_pred2_5k = flan_p2_5k.readlines()\n",
    "    \n",
    "with open('FlanT5_pred5k/Nescio_Titaantjes_pred.txt', 'r') as flan_p3_5k:\n",
    "    flan_pred3_5k = flan_p3_5k.readlines()"
   ]
  },
  {
   "cell_type": "code",
   "execution_count": 24,
   "metadata": {},
   "outputs": [],
   "source": [
    "# Predictions from Flan-T5 not pretrained 10K\n",
    "with open('FlanT5_pred10k/Multatuli_MaxHavelaar_pred.txt', 'r') as flan_p1_10k:\n",
    "    flan_pred1_10k = flan_p1_10k.readlines()\n",
    "\n",
    "with open('FlanT5_pred10k/ConanDoyle_SherlockHolmesDeAgraSchat_pred.txt', 'r') as flan_p2_10k:\n",
    "    flan_pred2_10k = flan_p2_10k.readlines()\n",
    "    \n",
    "with open('FlanT5_pred10k/Nescio_Titaantjes_pred.txt', 'r') as flan_p3_10k:\n",
    "    flan_pred3_10k = flan_p3_10k.readlines()"
   ]
  },
  {
   "cell_type": "markdown",
   "metadata": {},
   "source": [
    "## Predictions ByT5 original (not pretrained) for 5k and 10k train data"
   ]
  },
  {
   "cell_type": "code",
   "execution_count": 25,
   "metadata": {},
   "outputs": [],
   "source": [
    "# Predictions from ByT5 not pretrained 5K\n",
    "with open('ByT5_orig_pred5k/Multatuli_MaxHavelaar_pred.txt', 'r') as byt5_p1_5k:\n",
    "    byt5_pred1_5k = byt5_p1_5k.readlines()\n",
    "\n",
    "with open('ByT5_orig_pred5k/ConanDoyle_SherlockHolmesDeAgraSchat_pred.txt', 'r') as byt5_p2_5k:\n",
    "    byt5_pred2_5k = byt5_p2_5k.readlines()\n",
    "    \n",
    "with open('ByT5_orig_pred5k/Nescio_Titaantjes_pred.txt', 'r') as byt5_p3_5k:\n",
    "    byt5_pred3_5k = byt5_p3_5k.readlines()"
   ]
  },
  {
   "cell_type": "code",
   "execution_count": 26,
   "metadata": {},
   "outputs": [],
   "source": [
    "# Predictions from ByT5 not pretrained 5K\n",
    "with open('ByT5_orig_pred10k/Multatuli_MaxHavelaar_pred.txt', 'r') as byt5_p1_10k:\n",
    "    byt5_pred1_10k = byt5_p1_10k.readlines()\n",
    "\n",
    "with open('ByT5_orig_pred10k/ConanDoyle_SherlockHolmesDeAgraSchat_pred.txt', 'r') as byt5_p2_10k:\n",
    "    byt5_pred2_10k = byt5_p2_10k.readlines()\n",
    "    \n",
    "with open('ByT5_orig_pred10k/Nescio_Titaantjes_pred.txt', 'r') as byt5_p3_10k:\n",
    "    byt5_pred3_10k = byt5_p3_10k.readlines()"
   ]
  },
  {
   "cell_type": "markdown",
   "metadata": {},
   "source": [
    "## Predictions ByT5 pretrained Books for 5k and 10k train data"
   ]
  },
  {
   "cell_type": "code",
   "execution_count": 27,
   "metadata": {},
   "outputs": [],
   "source": [
    "# Predictions from ByT5 pretrained with 2 million sentences from BERTje Books 5K\n",
    "with open('ByT5_pre_books_pred5k/Multatuli_MaxHavelaar_pred.txt', 'r') as books1_5k:\n",
    "    byt5_books_pred1_5k = books1_5k.readlines()\n",
    "\n",
    "with open('ByT5_pre_books_pred5k/ConanDoyle_SherlockHolmesDeAgraSchat_pred.txt', 'r') as books2_5k:\n",
    "    byt5_books_pred2_5k = books2_5k.readlines()\n",
    "    \n",
    "with open('ByT5_pre_books_pred5k/Nescio_Titaantjes_pred.txt', 'r') as books3_5k:\n",
    "    byt5_books_pred3_5k = books3_5k.readlines()"
   ]
  },
  {
   "cell_type": "code",
   "execution_count": 28,
   "metadata": {},
   "outputs": [],
   "source": [
    "# Predictions from ByT5 pretrained with 2 million sentences from BERTje Books 5K\n",
    "with open('ByT5_pre_books_pred10k/Multatuli_MaxHavelaar_pred.txt', 'r') as books1_10k:\n",
    "    byt5_books_pred1_10k = books1_10k.readlines()\n",
    "\n",
    "with open('ByT5_pre_books_pred10k/ConanDoyle_SherlockHolmesDeAgraSchat_pred.txt', 'r') as books2_10k:\n",
    "    byt5_books_pred2_10k = books2_10k.readlines()\n",
    "    \n",
    "with open('ByT5_pre_books_pred10k/Nescio_Titaantjes_pred.txt', 'r') as books3_10k:\n",
    "    byt5_books_pred3_10k = books3_10k.readlines()"
   ]
  },
  {
   "cell_type": "markdown",
   "metadata": {},
   "source": [
    "## Predictions ByT5 pretrained Sonar for 5k and 10k train data"
   ]
  },
  {
   "cell_type": "code",
   "execution_count": 29,
   "metadata": {},
   "outputs": [],
   "source": [
    "# Predictions from ByT5 pretrained with 2 million sentences from BERTje Sonar 5K\n",
    "with open('ByT5_pre_sonar_pred5k/Multatuli_MaxHavelaar_pred.txt', 'r') as sonar1_5k:\n",
    "    byt5_sonar_pred1_5k = sonar1_5k.readlines()\n",
    "\n",
    "with open('ByT5_pre_sonar_pred5k/ConanDoyle_SherlockHolmesDeAgraSchat_pred.txt', 'r') as sonar2_5k:\n",
    "    byt5_sonar_pred2_5k = sonar2_5k.readlines()\n",
    "    \n",
    "with open('ByT5_pre_sonar_pred5k/Nescio_Titaantjes_pred.txt', 'r') as sonar3_5k:\n",
    "    byt5_sonar_pred3_5k = sonar3_5k.readlines()"
   ]
  },
  {
   "cell_type": "code",
   "execution_count": 30,
   "metadata": {},
   "outputs": [],
   "source": [
    "# Predictions from ByT5 pretrained with 2 million sentences from BERTje Sonar 5K\n",
    "with open('ByT5_pre_sonar_pred10k/Multatuli_MaxHavelaar_pred.txt', 'r') as sonar1_10k:\n",
    "    byt5_sonar_pred1_10k = sonar1_10k.readlines()\n",
    "\n",
    "with open('ByT5_pre_sonar_pred10k/ConanDoyle_SherlockHolmesDeAgraSchat_pred.txt', 'r') as sonar2_10k:\n",
    "    byt5_sonar_pred2_10k = sonar2_10k.readlines()\n",
    "    \n",
    "with open('ByT5_pre_sonar_pred10k/Nescio_Titaantjes_pred.txt', 'r') as sonar3_10k:\n",
    "    byt5_sonar_pred3_10k = sonar3_10k.readlines()"
   ]
  },
  {
   "cell_type": "code",
   "execution_count": 31,
   "metadata": {},
   "outputs": [
    {
     "data": {
      "text/plain": [
       "'\\nERR, Chrf++ scores:\\n1. FlanT5 \\n2. ByT5 original\\n3. ByT5 pretrained Sonar \\n4. ByT5 pretrained Books \\n5. Rule-based\\n\\nBest results for each novel:\\n\\n1. Max Havelaar Multatuli: 1. Rule-Based (ERR: 68.35%)\\n2. Conan Doyle Sherlock Holmes De Agra Schat: 4. ByT5 pretrained sonar (ERR: 71.71%)\\n3. Nescio Titaantjes: 3. ByT5 pretrained books (ERR: 83.79%%)\\n\\n\\n1. Max Havelaar Multatuli: 1. Rule-Based (ChrF++: 68.35%)\\n2. Conan Doyle Sherlock Holmes De Agra Schat: 4. ByT5 pretrained sonar (ChrF++: 71.71%)\\n3. Nescio Titaantjes: 3. ByT5 pretrained books (ChrF++: 83.79%%)\\n'"
      ]
     },
     "execution_count": 31,
     "metadata": {},
     "output_type": "execute_result"
    }
   ],
   "source": [
    "'''\n",
    "ERR, Chrf++ scores:\n",
    "1. FlanT5 \n",
    "2. ByT5 original\n",
    "3. ByT5 pretrained Sonar \n",
    "4. ByT5 pretrained Books \n",
    "5. Rule-based\n",
    "\n",
    "Best results for each novel:\n",
    "\n",
    "1. Max Havelaar Multatuli: 1. Rule-Based (ERR: 68.35%)\n",
    "2. Conan Doyle Sherlock Holmes De Agra Schat: 4. ByT5 pretrained sonar (ERR: 71.71%)\n",
    "3. Nescio Titaantjes: 3. ByT5 pretrained books (ERR: 83.79%%)\n",
    "\n",
    "\n",
    "1. Max Havelaar Multatuli: 1. Rule-Based (ChrF++: 68.35%)\n",
    "2. Conan Doyle Sherlock Holmes De Agra Schat: 4. ByT5 pretrained sonar (ChrF++: 71.71%)\n",
    "3. Nescio Titaantjes: 3. ByT5 pretrained books (ChrF++: 83.79%%)\n",
    "'''"
   ]
  },
  {
   "cell_type": "markdown",
   "metadata": {},
   "source": [
    "## 1. Flan T5 (not pretrained) 5K"
   ]
  },
  {
   "cell_type": "code",
   "execution_count": 32,
   "metadata": {},
   "outputs": [
    {
     "name": "stdout",
     "output_type": "stream",
     "text": [
      "Max Havelaar Multatuli (FlanT5):\n",
      "Baseline Accuracy: 96.04%\n",
      "Accuracy: 98.24%\n",
      "Error Reduction Rate: 55.44%\n",
      "Avg Precision: 94.19%\n",
      "Avg Recall: 94.76%\n",
      "\n",
      "\n",
      "ChrF scores with original predictions:\n",
      "ChrF++: Flan-T5\n",
      "   score: 97.16\n",
      "   char_order: 6\n",
      "   word_order: 2\n",
      "   beta: 2\n",
      "ChrF: Flan-T5\n",
      "   score: 97.78\n",
      "   char_order: 6\n",
      "   word_order: 0\n",
      "   beta: 2\n",
      "\n",
      "\n",
      "ChrF scores with aligned predictions:\n",
      "ChrF++: Flan-T5\n",
      "   score: 98.14\n",
      "   char_order: 6\n",
      "   word_order: 2\n",
      "   beta: 2\n",
      "ChrF: Flan-T5\n",
      "   score: 98.43\n",
      "   char_order: 6\n",
      "   word_order: 0\n",
      "   beta: 2\n"
     ]
    }
   ],
   "source": [
    "print('Max Havelaar Multatuli (FlanT5):')\n",
    "_, _ = evaluate_T5(gold_data1, flan_pred1_5k, 'Flan-T5')"
   ]
  },
  {
   "cell_type": "code",
   "execution_count": 33,
   "metadata": {},
   "outputs": [
    {
     "name": "stdout",
     "output_type": "stream",
     "text": [
      "Conan Doyle Sherlock Holmes De Agra Schat (FlanT5):\n",
      "Baseline Accuracy: 94.83%\n",
      "Accuracy: 97.87%\n",
      "Error Reduction Rate: 58.72%\n",
      "Avg Precision: 94.92%\n",
      "Avg Recall: 95.97%\n",
      "\n",
      "\n",
      "ChrF scores with original predictions:\n",
      "ChrF++: Flan-T5\n",
      "   score: 97.86\n",
      "   char_order: 6\n",
      "   word_order: 2\n",
      "   beta: 2\n",
      "ChrF: Flan-T5\n",
      "   score: 98.29\n",
      "   char_order: 6\n",
      "   word_order: 0\n",
      "   beta: 2\n",
      "\n",
      "\n",
      "ChrF scores with aligned predictions:\n",
      "ChrF++: Flan-T5\n",
      "   score: 97.98\n",
      "   char_order: 6\n",
      "   word_order: 2\n",
      "   beta: 2\n",
      "ChrF: Flan-T5\n",
      "   score: 98.4\n",
      "   char_order: 6\n",
      "   word_order: 0\n",
      "   beta: 2\n"
     ]
    }
   ],
   "source": [
    "print('Conan Doyle Sherlock Holmes De Agra Schat (FlanT5):')\n",
    "_, _ = evaluate_T5(gold_data2, flan_pred2_5k, 'Flan-T5')"
   ]
  },
  {
   "cell_type": "code",
   "execution_count": 34,
   "metadata": {},
   "outputs": [
    {
     "name": "stdout",
     "output_type": "stream",
     "text": [
      "Nescio Titaantjes (FlanT5):\n",
      "Baseline Accuracy: 96.28%\n",
      "Accuracy: 98.95%\n",
      "Error Reduction Rate: 71.69%\n",
      "Avg Precision: 96.32%\n",
      "Avg Recall: 97.10%\n",
      "\n",
      "\n",
      "ChrF scores with original predictions:\n",
      "ChrF++: Flan-T5\n",
      "   score: 98.64\n",
      "   char_order: 6\n",
      "   word_order: 2\n",
      "   beta: 2\n",
      "ChrF: Flan-T5\n",
      "   score: 99.06\n",
      "   char_order: 6\n",
      "   word_order: 0\n",
      "   beta: 2\n",
      "\n",
      "\n",
      "ChrF scores with aligned predictions:\n",
      "ChrF++: Flan-T5\n",
      "   score: 99.0\n",
      "   char_order: 6\n",
      "   word_order: 2\n",
      "   beta: 2\n",
      "ChrF: Flan-T5\n",
      "   score: 99.19\n",
      "   char_order: 6\n",
      "   word_order: 0\n",
      "   beta: 2\n"
     ]
    }
   ],
   "source": [
    "print('Nescio Titaantjes (FlanT5):') \n",
    "_, _ = evaluate_T5(gold_data3, flan_pred3_5k, 'Flan-T5')"
   ]
  },
  {
   "cell_type": "markdown",
   "metadata": {},
   "source": [
    "## 1. Flan T5 (not pretrained) 10K"
   ]
  },
  {
   "cell_type": "code",
   "execution_count": 35,
   "metadata": {},
   "outputs": [
    {
     "name": "stdout",
     "output_type": "stream",
     "text": [
      "Max Havelaar Multatuli (FlanT5):\n",
      "Baseline Accuracy: 96.04%\n",
      "Accuracy: 98.48%\n",
      "Error Reduction Rate: 61.52%\n",
      "Avg Precision: 94.85%\n",
      "Avg Recall: 95.21%\n",
      "\n",
      "\n",
      "ChrF scores with original predictions:\n",
      "ChrF++: Flan-T5\n",
      "   score: 97.96\n",
      "   char_order: 6\n",
      "   word_order: 2\n",
      "   beta: 2\n",
      "ChrF: Flan-T5\n",
      "   score: 98.58\n",
      "   char_order: 6\n",
      "   word_order: 0\n",
      "   beta: 2\n",
      "\n",
      "\n",
      "ChrF scores with aligned predictions:\n",
      "ChrF++: Flan-T5\n",
      "   score: 98.34\n",
      "   char_order: 6\n",
      "   word_order: 2\n",
      "   beta: 2\n",
      "ChrF: Flan-T5\n",
      "   score: 98.58\n",
      "   char_order: 6\n",
      "   word_order: 0\n",
      "   beta: 2\n"
     ]
    }
   ],
   "source": [
    "print('Max Havelaar Multatuli (FlanT5):')\n",
    "_T, _T1 = evaluate_T5(gold_data1, flan_pred1_10k, 'Flan-T5')"
   ]
  },
  {
   "cell_type": "code",
   "execution_count": 36,
   "metadata": {},
   "outputs": [
    {
     "name": "stdout",
     "output_type": "stream",
     "text": [
      "Conan Doyle Sherlock Holmes De Agra Schat (FlanT5):\n",
      "Baseline Accuracy: 94.83%\n",
      "Accuracy: 98.04%\n",
      "Error Reduction Rate: 62.02%\n",
      "Avg Precision: 95.50%\n",
      "Avg Recall: 96.29%\n",
      "\n",
      "\n",
      "ChrF scores with original predictions:\n",
      "ChrF++: Flan-T5\n",
      "   score: 98.03\n",
      "   char_order: 6\n",
      "   word_order: 2\n",
      "   beta: 2\n",
      "ChrF: Flan-T5\n",
      "   score: 98.44\n",
      "   char_order: 6\n",
      "   word_order: 0\n",
      "   beta: 2\n",
      "\n",
      "\n",
      "ChrF scores with aligned predictions:\n",
      "ChrF++: Flan-T5\n",
      "   score: 98.13\n",
      "   char_order: 6\n",
      "   word_order: 2\n",
      "   beta: 2\n",
      "ChrF: Flan-T5\n",
      "   score: 98.52\n",
      "   char_order: 6\n",
      "   word_order: 0\n",
      "   beta: 2\n"
     ]
    }
   ],
   "source": [
    "print('Conan Doyle Sherlock Holmes De Agra Schat (FlanT5):')\n",
    "_, _ = evaluate_T5(gold_data2, flan_pred2_10k, 'Flan-T5')"
   ]
  },
  {
   "cell_type": "code",
   "execution_count": 37,
   "metadata": {},
   "outputs": [
    {
     "name": "stdout",
     "output_type": "stream",
     "text": [
      "Nescio Titaantjes (FlanT5):\n",
      "Baseline Accuracy: 96.28%\n",
      "Accuracy: 99.14%\n",
      "Error Reduction Rate: 76.94%\n",
      "Avg Precision: 96.85%\n",
      "Avg Recall: 97.46%\n",
      "\n",
      "\n",
      "ChrF scores with original predictions:\n",
      "ChrF++: Flan-T5\n",
      "   score: 98.93\n",
      "   char_order: 6\n",
      "   word_order: 2\n",
      "   beta: 2\n",
      "ChrF: Flan-T5\n",
      "   score: 99.33\n",
      "   char_order: 6\n",
      "   word_order: 0\n",
      "   beta: 2\n",
      "\n",
      "\n",
      "ChrF scores with aligned predictions:\n",
      "ChrF++: Flan-T5\n",
      "   score: 99.17\n",
      "   char_order: 6\n",
      "   word_order: 2\n",
      "   beta: 2\n",
      "ChrF: Flan-T5\n",
      "   score: 99.33\n",
      "   char_order: 6\n",
      "   word_order: 0\n",
      "   beta: 2\n"
     ]
    }
   ],
   "source": [
    "print('Nescio Titaantjes (FlanT5):') \n",
    "_, _ = evaluate_T5(gold_data3, flan_pred3_10k, 'Flan-T5')"
   ]
  },
  {
   "cell_type": "markdown",
   "metadata": {},
   "source": [
    "## 2. ByT5 original (not pretrained) 5K"
   ]
  },
  {
   "cell_type": "code",
   "execution_count": 38,
   "metadata": {},
   "outputs": [
    {
     "name": "stdout",
     "output_type": "stream",
     "text": [
      "Max Havelaar Multatuli (ByT5 orig):\n",
      "Baseline Accuracy: 96.04%\n",
      "Accuracy: 98.72%\n",
      "Error Reduction Rate: 67.59%\n",
      "Avg Precision: 95.73%\n",
      "Avg Recall: 95.99%\n",
      "\n",
      "\n",
      "ChrF scores with original predictions:\n",
      "ChrF++: ByT5 orig\n",
      "   score: 98.16\n",
      "   char_order: 6\n",
      "   word_order: 2\n",
      "   beta: 2\n",
      "ChrF: ByT5 orig\n",
      "   score: 98.73\n",
      "   char_order: 6\n",
      "   word_order: 0\n",
      "   beta: 2\n",
      "\n",
      "\n",
      "ChrF scores with aligned predictions:\n",
      "ChrF++: ByT5 orig\n",
      "   score: 98.59\n",
      "   char_order: 6\n",
      "   word_order: 2\n",
      "   beta: 2\n",
      "ChrF: ByT5 orig\n",
      "   score: 98.79\n",
      "   char_order: 6\n",
      "   word_order: 0\n",
      "   beta: 2\n"
     ]
    }
   ],
   "source": [
    "print('Max Havelaar Multatuli (ByT5 orig):')\n",
    "byt5_orig_pred1_5K, byt5_orig_gold1_5K = evaluate_T5(gold_data1, byt5_pred1_5k, 'ByT5 orig')"
   ]
  },
  {
   "cell_type": "code",
   "execution_count": 39,
   "metadata": {},
   "outputs": [
    {
     "name": "stdout",
     "output_type": "stream",
     "text": [
      "Conan Doyle Sherlock Holmes De Agra Schat (ByT5 orig):\n",
      "Baseline Accuracy: 94.83%\n",
      "Accuracy: 98.53%\n",
      "Error Reduction Rate: 71.51%\n",
      "Avg Precision: 96.91%\n",
      "Avg Recall: 97.54%\n",
      "\n",
      "\n",
      "ChrF scores with original predictions:\n",
      "ChrF++: ByT5 orig\n",
      "   score: 98.54\n",
      "   char_order: 6\n",
      "   word_order: 2\n",
      "   beta: 2\n",
      "ChrF: ByT5 orig\n",
      "   score: 98.85\n",
      "   char_order: 6\n",
      "   word_order: 0\n",
      "   beta: 2\n",
      "\n",
      "\n",
      "ChrF scores with aligned predictions:\n",
      "ChrF++: ByT5 orig\n",
      "   score: 98.57\n",
      "   char_order: 6\n",
      "   word_order: 2\n",
      "   beta: 2\n",
      "ChrF: ByT5 orig\n",
      "   score: 98.85\n",
      "   char_order: 6\n",
      "   word_order: 0\n",
      "   beta: 2\n"
     ]
    }
   ],
   "source": [
    "print('Conan Doyle Sherlock Holmes De Agra Schat (ByT5 orig):')\n",
    "byt5_orig_pred2_5K, byt5_orig_gold2_5K = evaluate_T5(gold_data2, byt5_pred2_5k, 'ByT5 orig')"
   ]
  },
  {
   "cell_type": "code",
   "execution_count": 40,
   "metadata": {},
   "outputs": [
    {
     "name": "stdout",
     "output_type": "stream",
     "text": [
      "Nescio Titaantjes (ByT5 orig):\n",
      "Baseline Accuracy: 96.28%\n",
      "Accuracy: 99.32%\n",
      "Error Reduction Rate: 81.74%\n",
      "Avg Precision: 97.65%\n",
      "Avg Recall: 98.12%\n",
      "\n",
      "\n",
      "ChrF scores with original predictions:\n",
      "ChrF++: ByT5 orig\n",
      "   score: 99.07\n",
      "   char_order: 6\n",
      "   word_order: 2\n",
      "   beta: 2\n",
      "ChrF: ByT5 orig\n",
      "   score: 99.43\n",
      "   char_order: 6\n",
      "   word_order: 0\n",
      "   beta: 2\n",
      "\n",
      "\n",
      "ChrF scores with aligned predictions:\n",
      "ChrF++: ByT5 orig\n",
      "   score: 99.32\n",
      "   char_order: 6\n",
      "   word_order: 2\n",
      "   beta: 2\n",
      "ChrF: ByT5 orig\n",
      "   score: 99.43\n",
      "   char_order: 6\n",
      "   word_order: 0\n",
      "   beta: 2\n"
     ]
    }
   ],
   "source": [
    "print('Nescio Titaantjes (ByT5 orig):') \n",
    "byt5_orig_pred3_5K, byt5_orig_gold3_5K = evaluate_T5(gold_data3, byt5_pred3_5k, 'ByT5 orig')"
   ]
  },
  {
   "cell_type": "markdown",
   "metadata": {},
   "source": [
    "## 2. ByT5 original (not pretrained) 10K"
   ]
  },
  {
   "cell_type": "code",
   "execution_count": 41,
   "metadata": {},
   "outputs": [
    {
     "name": "stdout",
     "output_type": "stream",
     "text": [
      "Max Havelaar Multatuli (ByT5 orig):\n",
      "Baseline Accuracy: 96.04%\n",
      "Accuracy: 98.72%\n",
      "Error Reduction Rate: 67.59%\n",
      "Avg Precision: 95.74%\n",
      "Avg Recall: 95.99%\n",
      "\n",
      "\n",
      "ChrF scores with original predictions:\n",
      "ChrF++: ByT5 orig\n",
      "   score: 98.22\n",
      "   char_order: 6\n",
      "   word_order: 2\n",
      "   beta: 2\n",
      "ChrF: ByT5 orig\n",
      "   score: 98.8\n",
      "   char_order: 6\n",
      "   word_order: 0\n",
      "   beta: 2\n",
      "\n",
      "\n",
      "ChrF scores with aligned predictions:\n",
      "ChrF++: ByT5 orig\n",
      "   score: 98.6\n",
      "   char_order: 6\n",
      "   word_order: 2\n",
      "   beta: 2\n",
      "ChrF: ByT5 orig\n",
      "   score: 98.8\n",
      "   char_order: 6\n",
      "   word_order: 0\n",
      "   beta: 2\n"
     ]
    }
   ],
   "source": [
    "print('Max Havelaar Multatuli (ByT5 orig):')\n",
    "byt5_orig_pred1_10K, byt5_orig_gold1_10K = evaluate_T5(gold_data1, byt5_pred1_10k, 'ByT5 orig')"
   ]
  },
  {
   "cell_type": "code",
   "execution_count": 42,
   "metadata": {},
   "outputs": [
    {
     "name": "stdout",
     "output_type": "stream",
     "text": [
      "Conan Doyle Sherlock Holmes De Agra Schat (ByT5 orig):\n",
      "Baseline Accuracy: 94.83%\n",
      "Accuracy: 98.54%\n",
      "Error Reduction Rate: 71.71%\n",
      "Avg Precision: 96.91%\n",
      "Avg Recall: 97.55%\n",
      "\n",
      "\n",
      "ChrF scores with original predictions:\n",
      "ChrF++: ByT5 orig\n",
      "   score: 98.56\n",
      "   char_order: 6\n",
      "   word_order: 2\n",
      "   beta: 2\n",
      "ChrF: ByT5 orig\n",
      "   score: 98.87\n",
      "   char_order: 6\n",
      "   word_order: 0\n",
      "   beta: 2\n",
      "\n",
      "\n",
      "ChrF scores with aligned predictions:\n",
      "ChrF++: ByT5 orig\n",
      "   score: 98.59\n",
      "   char_order: 6\n",
      "   word_order: 2\n",
      "   beta: 2\n",
      "ChrF: ByT5 orig\n",
      "   score: 98.87\n",
      "   char_order: 6\n",
      "   word_order: 0\n",
      "   beta: 2\n"
     ]
    }
   ],
   "source": [
    "print('Conan Doyle Sherlock Holmes De Agra Schat (ByT5 orig):')\n",
    "byt5_orig_pred2_10K, byt5_orig_gold2_10K = evaluate_T5(gold_data2, byt5_pred2_10k, 'ByT5 orig')"
   ]
  },
  {
   "cell_type": "code",
   "execution_count": 43,
   "metadata": {},
   "outputs": [
    {
     "name": "stdout",
     "output_type": "stream",
     "text": [
      "Nescio Titaantjes (ByT5 orig):\n",
      "Baseline Accuracy: 96.28%\n",
      "Accuracy: 99.35%\n",
      "Error Reduction Rate: 82.65%\n",
      "Avg Precision: 97.76%\n",
      "Avg Recall: 98.31%\n",
      "\n",
      "\n",
      "ChrF scores with original predictions:\n",
      "ChrF++: ByT5 orig\n",
      "   score: 99.1\n",
      "   char_order: 6\n",
      "   word_order: 2\n",
      "   beta: 2\n",
      "ChrF: ByT5 orig\n",
      "   score: 99.45\n",
      "   char_order: 6\n",
      "   word_order: 0\n",
      "   beta: 2\n",
      "\n",
      "\n",
      "ChrF scores with aligned predictions:\n",
      "ChrF++: ByT5 orig\n",
      "   score: 99.35\n",
      "   char_order: 6\n",
      "   word_order: 2\n",
      "   beta: 2\n",
      "ChrF: ByT5 orig\n",
      "   score: 99.45\n",
      "   char_order: 6\n",
      "   word_order: 0\n",
      "   beta: 2\n"
     ]
    }
   ],
   "source": [
    "print('Nescio Titaantjes (ByT5 orig):') \n",
    "byt5_orig_pred3_10K, byt5_orig_gold3_10K = evaluate_T5(gold_data3, byt5_pred3_10k, 'ByT5 orig')"
   ]
  },
  {
   "cell_type": "markdown",
   "metadata": {},
   "source": [
    "## 3. ByT5 pretrained with 2 million sentences from BERTje Books 5K"
   ]
  },
  {
   "cell_type": "code",
   "execution_count": 44,
   "metadata": {},
   "outputs": [
    {
     "name": "stdout",
     "output_type": "stream",
     "text": [
      "Max Havelaar Multatuli (ByT5 pretrained books):\n",
      "Baseline Accuracy: 96.04%\n",
      "Accuracy: 98.70%\n",
      "Error Reduction Rate: 67.09%\n",
      "Avg Precision: 96.03%\n",
      "Avg Recall: 96.28%\n",
      "\n",
      "\n",
      "ChrF scores with original predictions:\n",
      "ChrF++: ByT5 pretrained books\n",
      "   score: 98.22\n",
      "   char_order: 6\n",
      "   word_order: 2\n",
      "   beta: 2\n",
      "ChrF: ByT5 pretrained books\n",
      "   score: 98.79\n",
      "   char_order: 6\n",
      "   word_order: 0\n",
      "   beta: 2\n",
      "\n",
      "\n",
      "ChrF scores with aligned predictions:\n",
      "ChrF++: ByT5 pretrained books\n",
      "   score: 98.6\n",
      "   char_order: 6\n",
      "   word_order: 2\n",
      "   beta: 2\n",
      "ChrF: ByT5 pretrained books\n",
      "   score: 98.8\n",
      "   char_order: 6\n",
      "   word_order: 0\n",
      "   beta: 2\n"
     ]
    }
   ],
   "source": [
    "print('Max Havelaar Multatuli (ByT5 pretrained books):')\n",
    "books_pred1_5k, books_gold1_5k = evaluate_T5(gold_data1, byt5_books_pred1_5k, 'ByT5 pretrained books')"
   ]
  },
  {
   "cell_type": "code",
   "execution_count": 45,
   "metadata": {},
   "outputs": [
    {
     "name": "stdout",
     "output_type": "stream",
     "text": [
      "Conan Doyle Sherlock Holmes De Agra Schat (ByT5 pretrained books):\n",
      "Baseline Accuracy: 94.83%\n",
      "Accuracy: 98.49%\n",
      "Error Reduction Rate: 70.74%\n",
      "Avg Precision: 96.78%\n",
      "Avg Recall: 97.54%\n",
      "\n",
      "\n",
      "ChrF scores with original predictions:\n",
      "ChrF++: ByT5 pretrained books\n",
      "   score: 98.5\n",
      "   char_order: 6\n",
      "   word_order: 2\n",
      "   beta: 2\n",
      "ChrF: ByT5 pretrained books\n",
      "   score: 98.81\n",
      "   char_order: 6\n",
      "   word_order: 0\n",
      "   beta: 2\n",
      "\n",
      "\n",
      "ChrF scores with aligned predictions:\n",
      "ChrF++: ByT5 pretrained books\n",
      "   score: 98.53\n",
      "   char_order: 6\n",
      "   word_order: 2\n",
      "   beta: 2\n",
      "ChrF: ByT5 pretrained books\n",
      "   score: 98.81\n",
      "   char_order: 6\n",
      "   word_order: 0\n",
      "   beta: 2\n"
     ]
    }
   ],
   "source": [
    "print('Conan Doyle Sherlock Holmes De Agra Schat (ByT5 pretrained books):')\n",
    "books_pred2_5k, books_gold2_5k = evaluate_T5(gold_data2, byt5_books_pred2_5k, 'ByT5 pretrained books')"
   ]
  },
  {
   "cell_type": "code",
   "execution_count": 46,
   "metadata": {},
   "outputs": [
    {
     "name": "stdout",
     "output_type": "stream",
     "text": [
      "Nescio Titaantjes (ByT5 pretrained books):\n",
      "Baseline Accuracy: 96.28%\n",
      "Accuracy: 99.40%\n",
      "Error Reduction Rate: 83.79%\n",
      "Avg Precision: 98.00%\n",
      "Avg Recall: 98.47%\n",
      "\n",
      "\n",
      "ChrF scores with original predictions:\n",
      "ChrF++: ByT5 pretrained books\n",
      "   score: 99.15\n",
      "   char_order: 6\n",
      "   word_order: 2\n",
      "   beta: 2\n",
      "ChrF: ByT5 pretrained books\n",
      "   score: 99.49\n",
      "   char_order: 6\n",
      "   word_order: 0\n",
      "   beta: 2\n",
      "\n",
      "\n",
      "ChrF scores with aligned predictions:\n",
      "ChrF++: ByT5 pretrained books\n",
      "   score: 99.41\n",
      "   char_order: 6\n",
      "   word_order: 2\n",
      "   beta: 2\n",
      "ChrF: ByT5 pretrained books\n",
      "   score: 99.51\n",
      "   char_order: 6\n",
      "   word_order: 0\n",
      "   beta: 2\n"
     ]
    }
   ],
   "source": [
    "print('Nescio Titaantjes (ByT5 pretrained books):') \n",
    "books_pred3_5k, books_gold3_5k = evaluate_T5(gold_data3, byt5_books_pred3_5k, 'ByT5 pretrained books')"
   ]
  },
  {
   "cell_type": "markdown",
   "metadata": {},
   "source": [
    "## 3. ByT5 pretrained with 2 million sentences from BERTje Books 10K"
   ]
  },
  {
   "cell_type": "code",
   "execution_count": 47,
   "metadata": {},
   "outputs": [
    {
     "name": "stdout",
     "output_type": "stream",
     "text": [
      "Max Havelaar Multatuli (ByT5 pretrained books):\n",
      "Baseline Accuracy: 96.04%\n",
      "Accuracy: 98.87%\n",
      "Error Reduction Rate: 71.39%\n",
      "Avg Precision: 96.04%\n",
      "Avg Recall: 96.39%\n",
      "\n",
      "\n",
      "ChrF scores with original predictions:\n",
      "ChrF++: ByT5 pretrained books\n",
      "   score: 98.37\n",
      "   char_order: 6\n",
      "   word_order: 2\n",
      "   beta: 2\n",
      "ChrF: ByT5 pretrained books\n",
      "   score: 98.92\n",
      "   char_order: 6\n",
      "   word_order: 0\n",
      "   beta: 2\n",
      "\n",
      "\n",
      "ChrF scores with aligned predictions:\n",
      "ChrF++: ByT5 pretrained books\n",
      "   score: 98.74\n",
      "   char_order: 6\n",
      "   word_order: 2\n",
      "   beta: 2\n",
      "ChrF: ByT5 pretrained books\n",
      "   score: 98.92\n",
      "   char_order: 6\n",
      "   word_order: 0\n",
      "   beta: 2\n"
     ]
    }
   ],
   "source": [
    "print('Max Havelaar Multatuli (ByT5 pretrained books):')\n",
    "books_pred1_10k, books_gold1_10k = evaluate_T5(gold_data1, byt5_books_pred1_10k, 'ByT5 pretrained books')"
   ]
  },
  {
   "cell_type": "code",
   "execution_count": 48,
   "metadata": {},
   "outputs": [
    {
     "name": "stdout",
     "output_type": "stream",
     "text": [
      "Conan Doyle Sherlock Holmes De Agra Schat (ByT5 pretrained books):\n",
      "Baseline Accuracy: 94.83%\n",
      "Accuracy: 98.63%\n",
      "Error Reduction Rate: 73.45%\n",
      "Avg Precision: 97.25%\n",
      "Avg Recall: 97.83%\n",
      "\n",
      "\n",
      "ChrF scores with original predictions:\n",
      "ChrF++: ByT5 pretrained books\n",
      "   score: 98.62\n",
      "   char_order: 6\n",
      "   word_order: 2\n",
      "   beta: 2\n",
      "ChrF: ByT5 pretrained books\n",
      "   score: 98.9\n",
      "   char_order: 6\n",
      "   word_order: 0\n",
      "   beta: 2\n",
      "\n",
      "\n",
      "ChrF scores with aligned predictions:\n",
      "ChrF++: ByT5 pretrained books\n",
      "   score: 98.65\n",
      "   char_order: 6\n",
      "   word_order: 2\n",
      "   beta: 2\n",
      "ChrF: ByT5 pretrained books\n",
      "   score: 98.9\n",
      "   char_order: 6\n",
      "   word_order: 0\n",
      "   beta: 2\n"
     ]
    }
   ],
   "source": [
    "print('Conan Doyle Sherlock Holmes De Agra Schat (ByT5 pretrained books):')\n",
    "books_pred2_10k, books_gold2_10k = evaluate_T5(gold_data2, byt5_books_pred2_10k, 'ByT5 pretrained books')"
   ]
  },
  {
   "cell_type": "code",
   "execution_count": 49,
   "metadata": {},
   "outputs": [
    {
     "name": "stdout",
     "output_type": "stream",
     "text": [
      "Nescio Titaantjes (ByT5 pretrained books):\n",
      "Baseline Accuracy: 96.28%\n",
      "Accuracy: 99.44%\n",
      "Error Reduction Rate: 84.93%\n",
      "Avg Precision: 98.22%\n",
      "Avg Recall: 98.57%\n",
      "\n",
      "\n",
      "ChrF scores with original predictions:\n",
      "ChrF++: ByT5 pretrained books\n",
      "   score: 99.14\n",
      "   char_order: 6\n",
      "   word_order: 2\n",
      "   beta: 2\n",
      "ChrF: ByT5 pretrained books\n",
      "   score: 99.47\n",
      "   char_order: 6\n",
      "   word_order: 0\n",
      "   beta: 2\n",
      "\n",
      "\n",
      "ChrF scores with aligned predictions:\n",
      "ChrF++: ByT5 pretrained books\n",
      "   score: 99.44\n",
      "   char_order: 6\n",
      "   word_order: 2\n",
      "   beta: 2\n",
      "ChrF: ByT5 pretrained books\n",
      "   score: 99.54\n",
      "   char_order: 6\n",
      "   word_order: 0\n",
      "   beta: 2\n"
     ]
    }
   ],
   "source": [
    "print('Nescio Titaantjes (ByT5 pretrained books):') \n",
    "books_pred3_10k, books_gold3_10k = evaluate_T5(gold_data3, byt5_books_pred3_10k, 'ByT5 pretrained books')"
   ]
  },
  {
   "cell_type": "markdown",
   "metadata": {},
   "source": [
    "## 4. ByT5 pretrained with 2 million sentences from BERTje Sonar 5K"
   ]
  },
  {
   "cell_type": "code",
   "execution_count": 50,
   "metadata": {},
   "outputs": [
    {
     "name": "stdout",
     "output_type": "stream",
     "text": [
      "Max Havelaar Multatuli (ByT5 pretrained sonar):\n",
      "Baseline Accuracy: 96.04%\n",
      "Accuracy: 98.70%\n",
      "Error Reduction Rate: 67.09%\n",
      "Avg Precision: 95.67%\n",
      "Avg Recall: 95.92%\n",
      "\n",
      "\n",
      "ChrF scores with original predictions:\n",
      "ChrF++: ByT5 pretrained sonar\n",
      "   score: 98.19\n",
      "   char_order: 6\n",
      "   word_order: 2\n",
      "   beta: 2\n",
      "ChrF: ByT5 pretrained sonar\n",
      "   score: 98.77\n",
      "   char_order: 6\n",
      "   word_order: 0\n",
      "   beta: 2\n",
      "\n",
      "\n",
      "ChrF scores with aligned predictions:\n",
      "ChrF++: ByT5 pretrained sonar\n",
      "   score: 98.56\n",
      "   char_order: 6\n",
      "   word_order: 2\n",
      "   beta: 2\n",
      "ChrF: ByT5 pretrained sonar\n",
      "   score: 98.77\n",
      "   char_order: 6\n",
      "   word_order: 0\n",
      "   beta: 2\n"
     ]
    }
   ],
   "source": [
    "print('Max Havelaar Multatuli (ByT5 pretrained sonar):')\n",
    "sonar_pred1_5k, sonar_gold1_5k = evaluate_T5(gold_data1, byt5_sonar_pred1_5k, 'ByT5 pretrained sonar')"
   ]
  },
  {
   "cell_type": "code",
   "execution_count": 51,
   "metadata": {},
   "outputs": [
    {
     "name": "stdout",
     "output_type": "stream",
     "text": [
      "Conan Doyle Sherlock Holmes De Agra Schat (ByT5 pretrained sonar):\n",
      "Baseline Accuracy: 94.83%\n",
      "Accuracy: 98.54%\n",
      "Error Reduction Rate: 71.71%\n",
      "Avg Precision: 96.94%\n",
      "Avg Recall: 97.48%\n",
      "\n",
      "\n",
      "ChrF scores with original predictions:\n",
      "ChrF++: ByT5 pretrained sonar\n",
      "   score: 98.53\n",
      "   char_order: 6\n",
      "   word_order: 2\n",
      "   beta: 2\n",
      "ChrF: ByT5 pretrained sonar\n",
      "   score: 98.83\n",
      "   char_order: 6\n",
      "   word_order: 0\n",
      "   beta: 2\n",
      "\n",
      "\n",
      "ChrF scores with aligned predictions:\n",
      "ChrF++: ByT5 pretrained sonar\n",
      "   score: 98.56\n",
      "   char_order: 6\n",
      "   word_order: 2\n",
      "   beta: 2\n",
      "ChrF: ByT5 pretrained sonar\n",
      "   score: 98.83\n",
      "   char_order: 6\n",
      "   word_order: 0\n",
      "   beta: 2\n"
     ]
    }
   ],
   "source": [
    "print('Conan Doyle Sherlock Holmes De Agra Schat (ByT5 pretrained sonar):')\n",
    "sonar_pred2_5k, sonar_gold2_5k = evaluate_T5(gold_data2, byt5_sonar_pred2_5k, 'ByT5 pretrained sonar')"
   ]
  },
  {
   "cell_type": "code",
   "execution_count": 52,
   "metadata": {},
   "outputs": [
    {
     "name": "stdout",
     "output_type": "stream",
     "text": [
      "Nescio Titaantjes (ByT5 pretrained sonar):\n",
      "Baseline Accuracy: 96.28%\n",
      "Accuracy: 99.39%\n",
      "Error Reduction Rate: 83.56%\n",
      "Avg Precision: 98.04%\n",
      "Avg Recall: 98.30%\n",
      "\n",
      "\n",
      "ChrF scores with original predictions:\n",
      "ChrF++: ByT5 pretrained sonar\n",
      "   score: 98.97\n",
      "   char_order: 6\n",
      "   word_order: 2\n",
      "   beta: 2\n",
      "ChrF: ByT5 pretrained sonar\n",
      "   score: 99.25\n",
      "   char_order: 6\n",
      "   word_order: 0\n",
      "   beta: 2\n",
      "\n",
      "\n",
      "ChrF scores with aligned predictions:\n",
      "ChrF++: ByT5 pretrained sonar\n",
      "   score: 99.21\n",
      "   char_order: 6\n",
      "   word_order: 2\n",
      "   beta: 2\n",
      "ChrF: ByT5 pretrained sonar\n",
      "   score: 99.24\n",
      "   char_order: 6\n",
      "   word_order: 0\n",
      "   beta: 2\n"
     ]
    }
   ],
   "source": [
    "print('Nescio Titaantjes (ByT5 pretrained sonar):') \n",
    "sonar_pred3_5k, sonar_gold3_5k = evaluate_T5(gold_data3, byt5_sonar_pred3_5k, 'ByT5 pretrained sonar')"
   ]
  },
  {
   "cell_type": "markdown",
   "metadata": {},
   "source": [
    "## 4. ByT5 pretrained with 2 million sentences from BERTje Sonar 10K"
   ]
  },
  {
   "cell_type": "code",
   "execution_count": 53,
   "metadata": {},
   "outputs": [
    {
     "name": "stdout",
     "output_type": "stream",
     "text": [
      "Max Havelaar Multatuli (ByT5 pretrained sonar):\n",
      "Baseline Accuracy: 96.04%\n",
      "Accuracy: 98.79%\n",
      "Error Reduction Rate: 69.37%\n",
      "Avg Precision: 95.91%\n",
      "Avg Recall: 96.20%\n",
      "\n",
      "\n",
      "ChrF scores with original predictions:\n",
      "ChrF++: ByT5 pretrained sonar\n",
      "   score: 98.13\n",
      "   char_order: 6\n",
      "   word_order: 2\n",
      "   beta: 2\n",
      "ChrF: ByT5 pretrained sonar\n",
      "   score: 98.82\n",
      "   char_order: 6\n",
      "   word_order: 0\n",
      "   beta: 2\n",
      "\n",
      "\n",
      "ChrF scores with aligned predictions:\n",
      "ChrF++: ByT5 pretrained sonar\n",
      "   score: 98.67\n",
      "   char_order: 6\n",
      "   word_order: 2\n",
      "   beta: 2\n",
      "ChrF: ByT5 pretrained sonar\n",
      "   score: 98.86\n",
      "   char_order: 6\n",
      "   word_order: 0\n",
      "   beta: 2\n"
     ]
    }
   ],
   "source": [
    "print('Max Havelaar Multatuli (ByT5 pretrained sonar):')\n",
    "sonar_pred1_10k, sonar_gold1_10k = evaluate_T5(gold_data1, byt5_sonar_pred1_10k, 'ByT5 pretrained sonar')"
   ]
  },
  {
   "cell_type": "code",
   "execution_count": 54,
   "metadata": {},
   "outputs": [
    {
     "name": "stdout",
     "output_type": "stream",
     "text": [
      "Conan Doyle Sherlock Holmes De Agra Schat (ByT5 pretrained sonar):\n",
      "Baseline Accuracy: 94.83%\n",
      "Accuracy: 98.54%\n",
      "Error Reduction Rate: 71.71%\n",
      "Avg Precision: 96.86%\n",
      "Avg Recall: 97.53%\n",
      "\n",
      "\n",
      "ChrF scores with original predictions:\n",
      "ChrF++: ByT5 pretrained sonar\n",
      "   score: 98.52\n",
      "   char_order: 6\n",
      "   word_order: 2\n",
      "   beta: 2\n",
      "ChrF: ByT5 pretrained sonar\n",
      "   score: 98.82\n",
      "   char_order: 6\n",
      "   word_order: 0\n",
      "   beta: 2\n",
      "\n",
      "\n",
      "ChrF scores with aligned predictions:\n",
      "ChrF++: ByT5 pretrained sonar\n",
      "   score: 98.55\n",
      "   char_order: 6\n",
      "   word_order: 2\n",
      "   beta: 2\n",
      "ChrF: ByT5 pretrained sonar\n",
      "   score: 98.82\n",
      "   char_order: 6\n",
      "   word_order: 0\n",
      "   beta: 2\n"
     ]
    }
   ],
   "source": [
    "print('Conan Doyle Sherlock Holmes De Agra Schat (ByT5 pretrained sonar):')\n",
    "sonar_pred2_10k, sonar_gold2_10k = evaluate_T5(gold_data2, byt5_sonar_pred2_10k, 'ByT5 pretrained sonar')"
   ]
  },
  {
   "cell_type": "code",
   "execution_count": 55,
   "metadata": {},
   "outputs": [
    {
     "name": "stdout",
     "output_type": "stream",
     "text": [
      "Nescio Titaantjes (ByT5 pretrained sonar):\n",
      "Baseline Accuracy: 96.28%\n",
      "Accuracy: 99.45%\n",
      "Error Reduction Rate: 85.16%\n",
      "Avg Precision: 98.17%\n",
      "Avg Recall: 98.59%\n",
      "\n",
      "\n",
      "ChrF scores with original predictions:\n",
      "ChrF++: ByT5 pretrained sonar\n",
      "   score: 99.17\n",
      "   char_order: 6\n",
      "   word_order: 2\n",
      "   beta: 2\n",
      "ChrF: ByT5 pretrained sonar\n",
      "   score: 99.5\n",
      "   char_order: 6\n",
      "   word_order: 0\n",
      "   beta: 2\n",
      "\n",
      "\n",
      "ChrF scores with aligned predictions:\n",
      "ChrF++: ByT5 pretrained sonar\n",
      "   score: 99.43\n",
      "   char_order: 6\n",
      "   word_order: 2\n",
      "   beta: 2\n",
      "ChrF: ByT5 pretrained sonar\n",
      "   score: 99.52\n",
      "   char_order: 6\n",
      "   word_order: 0\n",
      "   beta: 2\n"
     ]
    }
   ],
   "source": [
    "print('Nescio Titaantjes (ByT5 pretrained sonar):') \n",
    "sonar_pred3_10k, sonar_gold3_10k = evaluate_T5(gold_data3, byt5_sonar_pred3_10k, 'ByT5 pretrained sonar')"
   ]
  },
  {
   "cell_type": "markdown",
   "metadata": {},
   "source": [
    "## 5. Rule-based "
   ]
  },
  {
   "cell_type": "code",
   "execution_count": 56,
   "metadata": {},
   "outputs": [
    {
     "name": "stdout",
     "output_type": "stream",
     "text": [
      "Max Havelaar Multatuli (rule-based):\n",
      "Baseline Accuracy: 96.04%\n",
      "Accuracy: 98.84%\n",
      "Error Reduction Rate: 70.63%\n",
      "Avg Precision: 96.02%\n",
      "Avg Recall: 96.20%\n",
      "ChrF scores with original predictions:\n",
      "ChrF++: rule-based\n",
      "   score: 98.68\n",
      "   char_order: 6\n",
      "   word_order: 2\n",
      "   beta: 2\n",
      "ChrF: rule-based\n",
      "   score: 98.86\n",
      "   char_order: 6\n",
      "   word_order: 0\n",
      "   beta: 2\n",
      "ChrF scores with aligned predictions:\n",
      "ChrF++: rule-based\n",
      "   score: 98.68\n",
      "   char_order: 6\n",
      "   word_order: 2\n",
      "   beta: 2\n",
      "ChrF: rule-based\n",
      "   score: 98.86\n",
      "   char_order: 6\n",
      "   word_order: 0\n",
      "   beta: 2\n"
     ]
    }
   ],
   "source": [
    "print('Max Havelaar Multatuli (rule-based):')\n",
    "_, silver_target1 = create_data(silver_data1)\n",
    "silver_pred1, silver_gold1 = evaluate_rulebased(gold_data1, silver_target1, 'rule-based')"
   ]
  },
  {
   "cell_type": "code",
   "execution_count": 57,
   "metadata": {
    "scrolled": false
   },
   "outputs": [
    {
     "name": "stdout",
     "output_type": "stream",
     "text": [
      "Conan Doyle Sherlock Holmes De Agra Schat (rule-based):\n",
      "Baseline Accuracy: 94.83%\n",
      "Accuracy: 98.41%\n",
      "Error Reduction Rate: 69.19%\n",
      "Avg Precision: 96.52%\n",
      "Avg Recall: 96.96%\n",
      "ChrF scores with original predictions:\n",
      "ChrF++: rule-based\n",
      "   score: 98.5\n",
      "   char_order: 6\n",
      "   word_order: 2\n",
      "   beta: 2\n",
      "ChrF: rule-based\n",
      "   score: 98.82\n",
      "   char_order: 6\n",
      "   word_order: 0\n",
      "   beta: 2\n",
      "ChrF scores with aligned predictions:\n",
      "ChrF++: rule-based\n",
      "   score: 98.5\n",
      "   char_order: 6\n",
      "   word_order: 2\n",
      "   beta: 2\n",
      "ChrF: rule-based\n",
      "   score: 98.81\n",
      "   char_order: 6\n",
      "   word_order: 0\n",
      "   beta: 2\n"
     ]
    }
   ],
   "source": [
    "print('Conan Doyle Sherlock Holmes De Agra Schat (rule-based):')\n",
    "_, silver_target2 = create_data(silver_data2)\n",
    "silver_pred2, silver_gold2 = evaluate_rulebased(gold_data2, silver_target2, 'rule-based')"
   ]
  },
  {
   "cell_type": "code",
   "execution_count": 58,
   "metadata": {
    "scrolled": false
   },
   "outputs": [
    {
     "name": "stdout",
     "output_type": "stream",
     "text": [
      "Nescio Titaantjes (rule-based):\n",
      "Baseline Accuracy: 96.28%\n",
      "Accuracy: 98.60%\n",
      "Error Reduction Rate: 62.41%\n",
      "Avg Precision: 97.89%\n",
      "Avg Recall: 98.27%\n",
      "ChrF scores with original predictions:\n",
      "ChrF++: rule-based\n",
      "   score: 98.11\n",
      "   char_order: 6\n",
      "   word_order: 2\n",
      "   beta: 2\n",
      "ChrF: rule-based\n",
      "   score: 98.38\n",
      "   char_order: 6\n",
      "   word_order: 0\n",
      "   beta: 2\n",
      "ChrF scores with aligned predictions:\n",
      "ChrF++: rule-based\n",
      "   score: 98.1\n",
      "   char_order: 6\n",
      "   word_order: 2\n",
      "   beta: 2\n",
      "ChrF: rule-based\n",
      "   score: 98.38\n",
      "   char_order: 6\n",
      "   word_order: 0\n",
      "   beta: 2\n"
     ]
    }
   ],
   "source": [
    "print('Nescio Titaantjes (rule-based):') \n",
    "_, silver_target3 = create_data(silver_data3)\n",
    "silver_pred3, silver_gold3 = evaluate_rulebased(gold_data3, silver_target3, 'rule-based')"
   ]
  },
  {
   "cell_type": "markdown",
   "metadata": {},
   "source": [
    "## Error Analysis"
   ]
  },
  {
   "cell_type": "code",
   "execution_count": 59,
   "metadata": {},
   "outputs": [],
   "source": [
    "from collections import Counter"
   ]
  },
  {
   "cell_type": "code",
   "execution_count": 60,
   "metadata": {},
   "outputs": [],
   "source": [
    "def get_misstakes(pred, gold):\n",
    "    misstakes = []\n",
    "    for x, y in zip(pred, gold):\n",
    "        for x_word, y_word in zip(x, y):\n",
    "            if x_word.strip() != y_word.strip():\n",
    "                misstakes.append('Pred: ' + x_word + ' ' + 'Gold: ' + y_word)\n",
    "    return Counter(misstakes).most_common(10), \"Total misstakes: {}\".format(len(misstakes))"
   ]
  },
  {
   "cell_type": "markdown",
   "metadata": {},
   "source": [
    "## Rule-based top 10 spelling misstakes"
   ]
  },
  {
   "cell_type": "code",
   "execution_count": 61,
   "metadata": {},
   "outputs": [
    {
     "data": {
      "text/plain": [
       "([('Pred: zo -iets Gold: zoiets', 5),\n",
       "  ('Pred: op-eens Gold: opeens', 4),\n",
       "  ('Pred: korrespondentie Gold: correspondentie', 3),\n",
       "  ('Pred: optemerken Gold: op te merken', 3),\n",
       "  ('Pred: moeielijker Gold: moeilijker', 3),\n",
       "  ('Pred: luî Gold: lui', 2),\n",
       "  ('Pred: - Gold: –', 2),\n",
       "  ('Pred: ouden Gold: oude', 2),\n",
       "  ('Pred: konnexie Gold: connectie', 2),\n",
       "  ('Pred: duitsch Gold: Duits', 2)],\n",
       " 'Total misstakes: 116')"
      ]
     },
     "execution_count": 61,
     "metadata": {},
     "output_type": "execute_result"
    }
   ],
   "source": [
    "get_misstakes(silver_pred1, silver_gold1)"
   ]
  },
  {
   "cell_type": "code",
   "execution_count": 62,
   "metadata": {},
   "outputs": [
    {
     "data": {
      "text/plain": [
       "([('Pred: meisjen Gold: meisje', 5),\n",
       "  ('Pred: op-eens Gold: opeens', 4),\n",
       "  ('Pred: korrespondentie Gold: correspondentie', 3),\n",
       "  ('Pred: optemerken Gold: op te merken', 3),\n",
       "  ('Pred: moeielijker Gold: moeilijker', 3),\n",
       "  ('Pred: luî Gold: lui', 2),\n",
       "  ('Pred: konnexie Gold: connectie', 2),\n",
       "  ('Pred: duitsche Gold: Duitse', 2),\n",
       "  ('Pred: enigen Gold: enige', 2),\n",
       "  ('Pred: solieden Gold: solide', 2)],\n",
       " 'Total misstakes: 113')"
      ]
     },
     "execution_count": 62,
     "metadata": {},
     "output_type": "execute_result"
    }
   ],
   "source": [
    "get_misstakes(books_pred1_10k, books_gold1_10k)"
   ]
  },
  {
   "cell_type": "code",
   "execution_count": 63,
   "metadata": {},
   "outputs": [
    {
     "data": {
      "text/plain": [
       "([('Pred: meisjen Gold: meisje', 5),\n",
       "  ('Pred: op-eens Gold: opeens', 4),\n",
       "  ('Pred: korrespondentie Gold: correspondentie', 3),\n",
       "  ('Pred: optemerken Gold: op te merken', 3),\n",
       "  ('Pred: moeielijker Gold: moeilijker', 3),\n",
       "  ('Pred: luî Gold: lui', 2),\n",
       "  ('Pred: konnexie Gold: connectie', 2),\n",
       "  ('Pred: duitsche Gold: Duitse', 2),\n",
       "  ('Pred: enigen Gold: enige', 2),\n",
       "  ('Pred: solieden Gold: solide', 2)],\n",
       " 'Total misstakes: 113')"
      ]
     },
     "execution_count": 63,
     "metadata": {},
     "output_type": "execute_result"
    }
   ],
   "source": [
    "get_misstakes(books_pred1_10k, books_gold1_10k)"
   ]
  },
  {
   "cell_type": "markdown",
   "metadata": {},
   "source": [
    "## Best ByT5 model (ByT5 pretrained books 10K) top 10 spelling misstakes"
   ]
  },
  {
   "cell_type": "code",
   "execution_count": 64,
   "metadata": {},
   "outputs": [
    {
     "data": {
      "text/plain": [
       "([('Pred: meisjen Gold: meisje', 5),\n",
       "  ('Pred: op-eens Gold: opeens', 4),\n",
       "  ('Pred: korrespondentie Gold: correspondentie', 3),\n",
       "  ('Pred: optemerken Gold: op te merken', 3),\n",
       "  ('Pred: moeielijker Gold: moeilijker', 3),\n",
       "  ('Pred: luî Gold: lui', 2),\n",
       "  ('Pred: konnexie Gold: connectie', 2),\n",
       "  ('Pred: duitsche Gold: Duitse', 2),\n",
       "  ('Pred: enigen Gold: enige', 2),\n",
       "  ('Pred: solieden Gold: solide', 2)],\n",
       " 'Total misstakes: 113')"
      ]
     },
     "execution_count": 64,
     "metadata": {},
     "output_type": "execute_result"
    }
   ],
   "source": [
    "get_misstakes(books_pred1_10k, books_gold1_10k)"
   ]
  },
  {
   "cell_type": "code",
   "execution_count": 65,
   "metadata": {},
   "outputs": [
    {
     "data": {
      "text/plain": [
       "([('Pred: zei Gold: zeide', 24),\n",
       "  ('Pred: ene Gold: een', 13),\n",
       "  ('Pred: enigen Gold: enige', 7),\n",
       "  ('Pred: Neen Gold: Nee', 4),\n",
       "  ('Pred: dezen Gold: deze', 4),\n",
       "  ('Pred: bizonder Gold: bijzonder', 3),\n",
       "  ('Pred: uwe Gold: uw', 3),\n",
       "  ('Pred: uwen Gold: uw', 3),\n",
       "  ('Pred: oudsten Gold: oudste', 3),\n",
       "  ('Pred: gene Gold: geen', 3)],\n",
       " 'Total misstakes: 137')"
      ]
     },
     "execution_count": 65,
     "metadata": {},
     "output_type": "execute_result"
    }
   ],
   "source": [
    "get_misstakes(books_pred2_10k, books_gold2_10k)"
   ]
  },
  {
   "cell_type": "code",
   "execution_count": 66,
   "metadata": {},
   "outputs": [
    {
     "data": {
      "text/plain": [
       "([('Pred: - Gold: de', 8),\n",
       "  ('Pred: der Gold: van', 7),\n",
       "  ('Pred: appelboomen Gold: appelbomen', 3),\n",
       "  ('Pred: onzen Gold: onze', 2),\n",
       "  ('Pred: Doch Gold: Maar', 2),\n",
       "  ('Pred: verten Gold: verte', 2),\n",
       "  ('Pred: anderen Gold: andere', 2),\n",
       "  ('Pred: opaan Gold: op aan', 1),\n",
       "  ('Pred: koeienoogen Gold: koeienogen', 1),\n",
       "  ('Pred: der Gold: er', 1)],\n",
       " 'Total misstakes: 66')"
      ]
     },
     "execution_count": 66,
     "metadata": {},
     "output_type": "execute_result"
    }
   ],
   "source": [
    "get_misstakes(books_pred3_10k, books_gold3_10k)"
   ]
  }
 ],
 "metadata": {
  "accelerator": "GPU",
  "colab": {
   "collapsed_sections": [
    "O1C_g3hW7hxI"
   ],
   "gpuType": "T4",
   "provenance": []
  },
  "gpuClass": "standard",
  "kernelspec": {
   "display_name": "Python 3 (ipykernel)",
   "language": "python",
   "name": "python3"
  },
  "language_info": {
   "codemirror_mode": {
    "name": "ipython",
    "version": 3
   },
   "file_extension": ".py",
   "mimetype": "text/x-python",
   "name": "python",
   "nbconvert_exporter": "python",
   "pygments_lexer": "ipython3",
   "version": "3.10.7"
  }
 },
 "nbformat": 4,
 "nbformat_minor": 1
}
