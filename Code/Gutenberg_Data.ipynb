{
  "nbformat": 4,
  "nbformat_minor": 0,
  "metadata": {
    "colab": {
      "provenance": []
    },
    "kernelspec": {
      "name": "python3",
      "display_name": "Python 3"
    },
    "language_info": {
      "name": "python"
    }
  },
  "cells": [
    {
      "cell_type": "markdown",
      "source": [
        "##**Installing Packages & Repositories**"
      ],
      "metadata": {
        "id": "MdXMhDNDqDBL"
      }
    },
    {
      "cell_type": "code",
      "source": [
        "\"\"\"Installing packages\"\"\"\n",
        "!sudo -v && wget -nv -O- https://download.calibre-ebook.com/linux-installer.sh | sudo sh /dev/stdin\n",
        "!pip install gutenbergpy"
      ],
      "metadata": {
        "id": "wkX31QStzIXp"
      },
      "execution_count": null,
      "outputs": []
    },
    {
      "cell_type": "code",
      "source": [
        "\"\"\"Downloading the latest alpino version and unzipping/storing\n",
        "the files in an Alpino directory\"\"\"\n",
        "!wget -O 'latest.tar' https://www.dropbox.com/s/nkzrtyz5xngap3q/Alpino-x86_64-Linux-glibc-2.17-git819-sicstus.tar?dl=0\n",
        "!unzip latest.tar\n",
        "!tar -xvf \"/content/latest.tar\" -C \"/content/\""
      ],
      "metadata": {
        "id": "nJBZHywF3Sv-"
      },
      "execution_count": null,
      "outputs": []
    },
    {
      "cell_type": "code",
      "source": [
        "\"\"\"Clone dutchlitpreproc and oudeboeken repositories from GitHub\"\"\"\n",
        "!git clone https://github.com/andreasvc/dutchlitpreproc.git\n",
        "!git clone https://github.com/gertjanvannoord/oudeboeken.git"
      ],
      "metadata": {
        "id": "t9QjW5Gy_cQf"
      },
      "execution_count": null,
      "outputs": []
    },
    {
      "cell_type": "code",
      "source": [
        "\"\"\"Create bash variable to link to Alpino directory\"\"\"\n",
        "%env ALPINO_HOME=/content/Alpino"
      ],
      "metadata": {
        "id": "fZWBQ1uTIGcA"
      },
      "execution_count": null,
      "outputs": []
    },
    {
      "cell_type": "markdown",
      "source": [
        "##**Downloading Project Gutenberg Text**"
      ],
      "metadata": {
        "id": "gKgXdQ50rdfN"
      }
    },
    {
      "cell_type": "code",
      "source": [
        "\"\"\"Creating directory to store Gutenberg files\"\"\"\n",
        "!mkdir /content/data"
      ],
      "metadata": {
        "id": "PcelZDAZxket"
      },
      "execution_count": null,
      "outputs": []
    },
    {
      "cell_type": "code",
      "source": [
        "\"\"\"Downloading text for original train data (5K sentences)\"\"\"\n",
        "%cd /content/data\n",
        "!wget -O 'WaarheidEnDroomen_JHasebroek.htm' https://www.gutenberg.org/files/66223/66223-h/66223-h.htm\n",
        "!wget -O 'Noodlot_LCouperus.htm' https://www.gutenberg.org/files/17659/17659-h/17659-h.htm\n",
        "!wget -O 'GeschiedenisWoutertjePieterse_Multatuli.htm' https://www.gutenberg.org/files/23796/23796-h/23796-h.htm\n",
        "!wget -O 'CameraObscura_NBeets.htm' https://www.gutenberg.org/files/15975/15975-h/15975-h.htm\n",
        "!wget -O 'StilleKracht_LCouperus.htm' https://www.gutenberg.org/files/67219/67219-h/67219-h.htm\n",
        "!wget -O 'FerdinandHuyck_JvLennep.htm' https://www.gutenberg.org/files/17706/17706-h/17706-h.htm\n",
        "!wget -O 'KleineJohannes_FvEeden.htm' https://www.gutenberg.org/cache/epub/10819/pg10819.html\n",
        "!wget -O 'VerlatenPost_JvWoude.htm' https://www.gutenberg.org/files/27555/27555-h/27555-h.htm\n",
        "!wget -O 'SlechteTijden_CDickens.htm' https://www.gutenberg.org/files/50771/50771-h/50771-h.htm\n",
        "!wget -O 'LelieVanS-Gravenhage_JCremer.htm' https://www.gutenberg.org/files/28175/28175-h/28175-h.htm\n",
        "!wget -O 'VogelsDiversePluimage_CVosmaer.htm' https://www.gutenberg.org/files/17554/17554-h/17554-h.htm\n",
        "%cd /content"
      ],
      "metadata": {
        "id": "4d4g7FV6flLO"
      },
      "execution_count": null,
      "outputs": []
    },
    {
      "cell_type": "code",
      "source": [
        "\"\"\"Downloading text for extra train data (10K sentences)\"\"\"\n",
        "%cd /content/data\n",
        "!wget -O 'GriekenlandDeAardeVolken_Adossidès.htm' https://www.gutenberg.org/files/28085/28085-h/28085-h.htm\n",
        "!wget -O 'MiddelpuntDerAarde_JVerne.htm' https://www.gutenberg.org/files/10349/10349-h/10349-h.htm\n",
        "!wget -O 'InstituutSparrenheide_Abkoude.htm' https://www.gutenberg.org/files/61324/61324-h/61324-h.htm\n",
        "!wget -O 'Ellendigen_Hugo.htm' https://www.gutenberg.org/files/37316/37316-h/37316-h.htm\n",
        "!wget -O 'DikTrom_Kieviet.htm' https://www.gutenberg.org/files/29712/29712-h/29712-h.htm\n",
        "!wget -O 'ZesMaandenCommando_Hofmeyr.htm' https://www.gutenberg.org/files/43034/43034-h/43034-h.htm\n",
        "!wget -O 'DePleegzoonJvLennep.htm' https://www.gutenberg.org/files/24467/24467-h/24467-h.htm\n",
        "!wget -O 'IndischeMenschenHolland_Maurits.htm' https://www.gutenberg.org/files/68993/68993-h/68993-h.htm\n",
        "!wget -O 'TwaalftalSamenspraken_Erasmus.htm' https://www.gutenberg.org/files/17523/17523-h/17523-h.htm\n",
        "!wget -O 'IndischeHuwelijken_Foore.htm' https://www.gutenberg.org/files/65854/65854-h/65854-h.htm\n",
        "%cd /content"
      ],
      "metadata": {
        "id": "9GQ724YV8ce2"
      },
      "execution_count": null,
      "outputs": []
    },
    {
      "cell_type": "markdown",
      "source": [
        "##**Normalize Spelling**"
      ],
      "metadata": {
        "id": "KLh8keOYr2Ay"
      }
    },
    {
      "cell_type": "code",
      "source": [
        "\"\"\"Creating directory to store silver data\"\"\"\n",
        "!mkdir /content/silver_data"
      ],
      "metadata": {
        "id": "pQThaXVmyArK"
      },
      "execution_count": null,
      "outputs": []
    },
    {
      "cell_type": "code",
      "source": [
        "\"\"\"Running dutchlitpreproc script with the project gutenberg data,\n",
        "returns output map with normalized spelling\"\"\"\n",
        "%cd /content/dutchlitpreproc/\n",
        "!bash pipeline.sh '/content/data/WaarheidEnDroomen_JHasebroek.htm' 8000\n",
        "!bash pipeline.sh '/content/data/Noodlot_LCouperus.htm' 8000\n",
        "!bash pipeline.sh '/content/data/GeschiedenisWoutertjePieterse_Multatuli.htm' 8000\n",
        "!bash pipeline.sh '/content/data/CameraObscura_NBeets.htm' 8000\n",
        "!bash pipeline.sh '/content/data/StilleKracht_LCouperus.htm' 8000\n",
        "!bash pipeline.sh '/content/data/FerdinandHuyck_JvLennep.htm' 8000\n",
        "!bash pipeline.sh '/content/data/KleineJohannes_FvEeden.htm' 8000\n",
        "!bash pipeline.sh '/content/data/VerlatenPost_JvWoude.htm' 8000\n",
        "!bash pipeline.sh '/content/data/SlechteTijden_CDickens.htm' 8000\n",
        "!bash pipeline.sh '/content/data/LelieVanS-Gravenhage_JCremer.htm' 8000\n",
        "!bash pipeline.sh '/content/data/VogelsDiversePluimage_CVosmaer.htm' 8000\n",
        "%cd /content"
      ],
      "metadata": {
        "id": "AA5xZBIi_nki"
      },
      "execution_count": null,
      "outputs": []
    },
    {
      "cell_type": "code",
      "source": [
        "\"\"\"Running dutchlitpreproc script with the project gutenberg data,\n",
        "returns output map with normalized spelling\"\"\"\n",
        "%cd /content/dutchlitpreproc/\n",
        "!bash pipeline.sh '/content/data/GriekenlandDeAardeVolken_Adossidès.htm' 8000\n",
        "!bash pipeline.sh '/content/data/MiddelpuntDerAarde_JVerne.htm' 8000\n",
        "!bash pipeline.sh '/content/data/InstituutSparrenheide_Abkoude.htm' 8000\n",
        "!bash pipeline.sh '/content/data/Ellendigen_Hugo.htm' 8000\n",
        "!bash pipeline.sh '/content/data/DikTrom_Kieviet.htm' 8000\n",
        "!bash pipeline.sh '/content/data/ZesMaandenCommando_Hofmeyr.htm' 8000\n",
        "!bash pipeline.sh '/content/data/DePleegzoonJvLennep.htm' 8000\n",
        "!bash pipeline.sh '/content/data/IndischeMenschenHolland_Maurits.htm' 8000\n",
        "!bash pipeline.sh '/content/data/TwaalftalSamenspraken_Erasmus.htm' 8000\n",
        "!bash pipeline.sh '/content/data/IndischeHuwelijken_Foore.htm' 8000\n",
        "%cd /content"
      ],
      "metadata": {
        "id": "730KWgrf8qto"
      },
      "execution_count": null,
      "outputs": []
    },
    {
      "cell_type": "code",
      "source": [
        "\"\"\"Convert the .tok spelling file to .txt\"\"\"\n",
        "def create_textfile(input_file, output_file):\n",
        "    inp_loc = '/content/dutchlitpreproc/output/spelling/' + input_file\n",
        "    with open(inp_loc, 'r') as f1:\n",
        "        data = f1.readlines()\n",
        "\n",
        "    out_loc = '/content/silver_data/' + output_file\n",
        "    with open(out_loc, 'w') as f2:\n",
        "        total_sent = 0\n",
        "        for n in data:\n",
        "            total_sent += 1\n",
        "            f2.write(n)\n",
        "    print(\"Total sentences in '{}': {}\".format(output_file, total_sent))"
      ],
      "metadata": {
        "id": "2wedFrn7v6i3"
      },
      "execution_count": null,
      "outputs": []
    },
    {
      "cell_type": "code",
      "source": [
        "create_textfile('WaarheidEnDroomen_JHasebroek.tok', 'WaarheidEnDroomen_JHasebroek.txt')\n",
        "create_textfile('Noodlot_LCouperus.tok', 'Noodlot_LCouperus.txt')\n",
        "create_textfile('GeschiedenisWoutertjePieterse_Multatuli.tok', 'GeschiedenisWoutertjePieterse_Multatuli.txt')\n",
        "create_textfile('CameraObscura_NBeets.tok', 'CameraObscura_NBeets.txt')\n",
        "create_textfile('StilleKracht_LCouperus.tok', 'StilleKracht_LCouperus.txt')\n",
        "create_textfile('FerdinandHuyck_JvLennep.tok', 'FerdinandHuyck_JvLennep.txt')\n",
        "create_textfile('KleineJohannes_FvEeden.tok', 'KleineJohannes_FvEeden.txt')\n",
        "create_textfile('VerlatenPost_JvWoude.tok', 'VerlatenPost_JvWoude.txt')\n",
        "create_textfile('SlechteTijden_CDickens.tok', 'SlechteTijden_CDickens.txt')\n",
        "create_textfile('LelieVanS-Gravenhage_JCremer.tok', 'LelieVanS-Gravenhage_JCremer.txt')\n",
        "create_textfile('VogelsDiversePluimage_CVosmaer.tok', 'VogelsDiversePluimage_CVosmaer.txt')"
      ],
      "metadata": {
        "id": "ahKMldUBsk9V"
      },
      "execution_count": null,
      "outputs": []
    },
    {
      "cell_type": "code",
      "source": [
        "create_textfile('MiddelpuntDerAarde_JVerne.tok', 'MiddelpuntDerAarde_JVerne.txt')\n",
        "create_textfile('GriekenlandDeAardeVolken_Adossidès.tok', 'GriekenlandDeAardeVolken_Adossidès.txt')\n",
        "create_textfile('InstituutSparrenheide_Abkoude.tok', 'InstituutSparrenheide_Abkoude.txt')\n",
        "create_textfile('Ellendigen_Hugo.tok', 'Ellendigen_Hugo.txt')\n",
        "create_textfile('DikTrom_Kieviet.tok', 'DikTrom_Kieviet.txt')\n",
        "create_textfile('ZesMaandenCommando_Hofmeyr.tok', 'ZesMaandenCommando_Hofmeyr.txt')\n",
        "create_textfile('DePleegzoonJvLennep.tok', 'DePleegzoonJvLennep.txt')\n",
        "create_textfile('IndischeMenschenHolland_Maurits.tok', 'IndischeMenschenHolland_Maurits.txt')\n",
        "create_textfile('TwaalftalSamenspraken_Erasmus.tok', 'TwaalftalSamenspraken_Erasmus.txt')\n",
        "create_textfile('IndischeHuwelijken_Foore.tok', 'IndischeHuwelijken_Foore.txt')"
      ],
      "metadata": {
        "id": "HeVU3Q-Y8wvS"
      },
      "execution_count": null,
      "outputs": []
    },
    {
      "cell_type": "code",
      "source": [
        "!zip -r /content/silver_data.zip /content/silver_data"
      ],
      "metadata": {
        "id": "ToB6u_hLYdx_"
      },
      "execution_count": null,
      "outputs": []
    },
    {
      "cell_type": "markdown",
      "source": [
        "##**Literature List**"
      ],
      "metadata": {
        "id": "BR755T9pW_Ai"
      }
    },
    {
      "cell_type": "code",
      "source": [
        "\"\"\"\n",
        "List of used literature from Project Gutenberg:\n",
        "1.  Naar het middelpunt der Aarde              (Jules Verne 1864)\n",
        "2.  Waarheid En Droomen                        (Johanas Hasebroek 1840)\n",
        "3.  Noodlot                                    (Louis Couperus 1890)\n",
        "4.  De Geschiedenis van Woutertje Pieterse     (Multatuli 1890)\n",
        "5.  Camera Obscura                             (Nicolaas Beets 1839)\n",
        "6.  De stille kracht                           (Louis Couperus 1900)\n",
        "7.  Ferdinand Huyck                            (Jacob van Lennep 1840)\n",
        "8.  De kleine Johannes                         (Frederik van Eeden 1885)\n",
        "9.  Een verlaten post                          (Johanna van Woude 1891)\n",
        "10. Slechte Tijden                             (Charles Dickens 1854)\n",
        "11. De lelie van 's-Gravenhage                 (Jacob Cremer 1878)\n",
        "12. Vogels van diverse pluimage                (Carel Vosmaer 1872)\n",
        "13. In Griekenland De Aarde en haar Volken     (Anastase Adossidès 1909)\n",
        "14. Instituut Sparrenheide                     (Chris van Abkoude 1917)\n",
        "15. De Ellendigen                              (Victor Hugo 1862)\n",
        "16. Uit het leven van Dik Trom                 (Cornelis Johannes Kieviet 1891)\n",
        "17. Zes maanden bij de commando's              (Nico J. Hofmeyr 1903)\n",
        "18. De Pleegzoon                               (Jacob van Lennep 1833)\n",
        "19. Indische Menschen in Holland               (Maurits 1890)\n",
        "20. Een Twaalftal Samenspraken                 (Desiderius Erasmus 1906)\n",
        "21. Indische Huwelijken                        (Annie Foore 1895)\n",
        "\"\"\""
      ],
      "metadata": {
        "id": "rzK-eFJV1mzU"
      },
      "execution_count": null,
      "outputs": []
    }
  ]
}